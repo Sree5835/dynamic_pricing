{
 "cells": [
  {
   "cell_type": "code",
   "execution_count": 1,
   "metadata": {},
   "outputs": [],
   "source": [
    "import os\n",
    "\n",
    "from dotenv import load_dotenv\n",
    "\n",
    "from dynamic_pricing.core.db_utils import get_db_connection, load_order_data\n",
    "import pandas as pd\n",
    "import matplotlib.pyplot as plt\n",
    "import itertools\n",
    "\n",
    "\n",
    "load_dotenv()\n",
    "pd.options.mode.chained_assignment = None  # default='warn'\n",
    "pd.set_option(\"future.no_silent_downcasting\", True)"
   ]
  },
  {
   "cell_type": "markdown",
   "metadata": {},
   "source": [
    "### Establish database connection"
   ]
  },
  {
   "cell_type": "code",
   "execution_count": null,
   "metadata": {},
   "outputs": [],
   "source": [
    "conn = get_db_connection()\n",
    "\n",
    "df: pd.DataFrame = load_order_data(conn, os.getenv(\"PARTNER1\"))\n",
    "print(df.info)"
   ]
  },
  {
   "cell_type": "code",
   "execution_count": 3,
   "metadata": {},
   "outputs": [
    {
     "name": "stdout",
     "output_type": "stream",
     "text": [
      "Index(['order_id', 'platform_order_id', 'platform_order_number',\n",
      "       'order_status', 'order_placed_timestamp', 'order_updated_timestamp',\n",
      "       'order_prepare_for_timestamp', 'order_start_prepping_at_timestamp',\n",
      "       'customer_id', 'first_name', 'contact_number', 'contact_access_code',\n",
      "       'partner_id', 'partner_name', 'item_id', 'platform_item_id',\n",
      "       'item_name', 'item_operational_name', 'item_fractional_cost',\n",
      "       'item_quantity', 'item_fractional_price', 'modifier_id',\n",
      "       'platform_modifier_id', 'modifier_name', 'modifier_operational_name',\n",
      "       'modifier_quantity', 'modifier_fractional_price'],\n",
      "      dtype='object')\n"
     ]
    }
   ],
   "source": [
    "print(df.columns)\n",
    "df.head()\n",
    "df.fillna(0, inplace=True)\n",
    "\n",
    "exclusion_categories = [\n",
    "    \"Desserts\",\n",
    "    \"Soft Drinks\",\n",
    "    \"Starters and Sharers\",\n",
    "    \"Handmade Single Grills\",\n",
    "]\n",
    "\n",
    "for category in exclusion_categories:\n",
    "    df = df[~df[\"item_operational_name\"].str.contains(category)]\n"
   ]
  },
  {
   "cell_type": "markdown",
   "metadata": {},
   "source": [
    "Filter to keep only the items we are analyzing"
   ]
  },
  {
   "cell_type": "code",
   "execution_count": 4,
   "metadata": {},
   "outputs": [
    {
     "name": "stdout",
     "output_type": "stream",
     "text": [
      "<class 'pandas.core.frame.DataFrame'>\n",
      "Index: 1081 entries, 550 to 5399\n",
      "Data columns (total 27 columns):\n",
      " #   Column                             Non-Null Count  Dtype         \n",
      "---  ------                             --------------  -----         \n",
      " 0   order_id                           1081 non-null   int64         \n",
      " 1   platform_order_id                  1081 non-null   object        \n",
      " 2   platform_order_number              1081 non-null   int64         \n",
      " 3   order_status                       1081 non-null   object        \n",
      " 4   order_placed_timestamp             1081 non-null   datetime64[ns]\n",
      " 5   order_updated_timestamp            1081 non-null   datetime64[ns]\n",
      " 6   order_prepare_for_timestamp        1081 non-null   datetime64[ns]\n",
      " 7   order_start_prepping_at_timestamp  1081 non-null   datetime64[ns]\n",
      " 8   customer_id                        1081 non-null   object        \n",
      " 9   first_name                         1081 non-null   object        \n",
      " 10  contact_number                     1081 non-null   object        \n",
      " 11  contact_access_code                1081 non-null   object        \n",
      " 12  partner_id                         1081 non-null   int64         \n",
      " 13  partner_name                       1081 non-null   object        \n",
      " 14  item_id                            1081 non-null   int64         \n",
      " 15  platform_item_id                   1081 non-null   object        \n",
      " 16  item_name                          1081 non-null   object        \n",
      " 17  item_operational_name              1081 non-null   object        \n",
      " 18  item_fractional_cost               1081 non-null   float64       \n",
      " 19  item_quantity                      1081 non-null   int64         \n",
      " 20  item_fractional_price              1081 non-null   int64         \n",
      " 21  modifier_id                        1081 non-null   object        \n",
      " 22  platform_modifier_id               1081 non-null   object        \n",
      " 23  modifier_name                      1081 non-null   object        \n",
      " 24  modifier_operational_name          1081 non-null   object        \n",
      " 25  modifier_quantity                  1081 non-null   object        \n",
      " 26  modifier_fractional_price          1081 non-null   object        \n",
      "dtypes: datetime64[ns](4), float64(1), int64(6), object(16)\n",
      "memory usage: 236.5+ KB\n"
     ]
    }
   ],
   "source": [
    "pre_dp_df = df[\n",
    "    (df[\"order_placed_timestamp\"] >= \"2023-06-26\")\n",
    "    & (df[\"order_placed_timestamp\"] < \"2023-7-17\")\n",
    "]\n",
    "\n",
    "\n",
    "post_dp_df = df[\n",
    "    (df[\"order_placed_timestamp\"] >= \"2023-7-17\")\n",
    "    & (df[\"order_placed_timestamp\"] < \"2023-8-07\")\n",
    "]\n",
    "\n",
    "\n",
    "seasonal_dp_df = df[\n",
    "    (df[\"order_placed_timestamp\"] >= \"2023-8-07\")\n",
    "    & (df[\"order_placed_timestamp\"] < \"2024-3-26\")\n",
    "]\n",
    "\n",
    "seasonal_dp_df = seasonal_dp_df[~seasonal_dp_df[\"item_operational_name\"].str.contains(\"Wrap\")]\n",
    "\n",
    "seasonal_dp_df.info()\n",
    "\n",
    "interval = 30 #signifies 30 minutes"
   ]
  },
  {
   "cell_type": "code",
   "execution_count": 5,
   "metadata": {},
   "outputs": [],
   "source": [
    "from dynamic_pricing.analysis.metrics import split_weekdays_and_weekends\n",
    "\n",
    "seasonal_dp_df_weekdays, seasonal_dp_df_weekends = split_weekdays_and_weekends(\n",
    "    seasonal_dp_df, \"order_placed_timestamp\"\n",
    ")"
   ]
  },
  {
   "cell_type": "markdown",
   "metadata": {},
   "source": [
    "### Data analysis of core demand and supply metrics\n",
    "Since the data for this analysis is from extend post-dp segment, there are only two plots for each sell:  post-dp weekday, post-dp weekend"
   ]
  },
  {
   "cell_type": "code",
   "execution_count": 6,
   "metadata": {},
   "outputs": [
    {
     "data": {
      "image/png": "[encoded data removed]",
      "text/plain": [
       "<Figure size 1200x600 with 1 Axes>"
      ]
     },
     "metadata": {},
     "output_type": "display_data"
    },
    {
     "data": {
      "image/png": "[encoded data removed]",
      "text/plain": [
       "<Figure size 1200x600 with 1 Axes>"
      ]
     },
     "metadata": {},
     "output_type": "display_data"
    }
   ],
   "source": [
    "from dynamic_pricing.analysis.metrics import (\n",
    "    calculate_average_orders_per_interval,\n",
    ")\n",
    "\n",
    "calculate_average_orders_per_interval(seasonal_dp_df_weekdays, interval=interval,plot =True)\n",
    "calculate_average_orders_per_interval(seasonal_dp_df_weekends, interval=interval,plot=True)"
   ]
  },
  {
   "cell_type": "code",
   "execution_count": 7,
   "metadata": {},
   "outputs": [
    {
     "data": {
      "image/png": "[encoded data removed]",
      "text/plain": [
       "<Figure size 1200x600 with 1 Axes>"
      ]
     },
     "metadata": {},
     "output_type": "display_data"
    },
    {
     "data": {
      "image/png": "[encoded data removed]",
      "text/plain": [
       "<Figure size 1200x600 with 1 Axes>"
      ]
     },
     "metadata": {},
     "output_type": "display_data"
    }
   ],
   "source": [
    "from dynamic_pricing.analysis.metrics import (\n",
    "    calculate_average_revenue_per_interval,\n",
    ")\n",
    "\n",
    "calculate_average_revenue_per_interval(\n",
    "    seasonal_dp_df_weekdays, interval, plot=True\n",
    ")\n",
    "calculate_average_revenue_per_interval(\n",
    "    seasonal_dp_df_weekends, interval, plot=True\n",
    ")"
   ]
  },
  {
   "cell_type": "markdown",
   "metadata": {},
   "source": [
    "### Additional analytics"
   ]
  },
  {
   "cell_type": "code",
   "execution_count": 8,
   "metadata": {},
   "outputs": [
    {
     "data": {
      "image/png": "[encoded data removed]",
      "text/plain": [
       "<Figure size 600x1200 with 1 Axes>"
      ]
     },
     "metadata": {},
     "output_type": "display_data"
    }
   ],
   "source": [
    "from dynamic_pricing.analysis.metrics import plot_items_sold\n",
    "\n",
    "plot_items_sold(seasonal_dp_df)"
   ]
  },
  {
   "cell_type": "code",
   "execution_count": 9,
   "metadata": {},
   "outputs": [
    {
     "data": {
      "image/png": "[encoded data removed]",
      "text/plain": [
       "<Figure size 800x600 with 1 Axes>"
      ]
     },
     "metadata": {},
     "output_type": "display_data"
    }
   ],
   "source": [
    "from dynamic_pricing.analysis.metrics import calculate_average_orders_by_day_of_week\n",
    "calculate_average_orders_by_day_of_week(seasonal_dp_df,plot=True)"
   ]
  },
  {
   "cell_type": "code",
   "execution_count": 10,
   "metadata": {},
   "outputs": [
    {
     "data": {
      "image/png": "[encoded data removed]",
      "text/plain": [
       "<Figure size 800x600 with 1 Axes>"
      ]
     },
     "metadata": {},
     "output_type": "display_data"
    }
   ],
   "source": [
    "from dynamic_pricing.analysis.metrics import calculate_average_revenue_by_day_of_week\n",
    "\n",
    "calculate_average_revenue_by_day_of_week(seasonal_dp_df, plot=True)"
   ]
  },
  {
   "cell_type": "code",
   "execution_count": 11,
   "metadata": {},
   "outputs": [
    {
     "data": {
      "image/png": "[encoded data removed]",
      "text/plain": [
       "<Figure size 1200x600 with 1 Axes>"
      ]
     },
     "metadata": {},
     "output_type": "display_data"
    },
    {
     "data": {
      "image/png": "[encoded data removed]",
      "text/plain": [
       "<Figure size 1200x600 with 1 Axes>"
      ]
     },
     "metadata": {},
     "output_type": "display_data"
    }
   ],
   "source": [
    "from dynamic_pricing.analysis.metrics import (\n",
    "    calculate_time_difference_in_order_acceptance_per_interval,\n",
    ")\n",
    "\n",
    "calculate_time_difference_in_order_acceptance_per_interval(seasonal_dp_df_weekdays, interval,plot=True)\n",
    "calculate_time_difference_in_order_acceptance_per_interval(\n",
    "    seasonal_dp_df_weekends, interval, plot=True\n",
    ")"
   ]
  },
  {
   "cell_type": "code",
   "execution_count": 12,
   "metadata": {},
   "outputs": [
    {
     "data": {
      "image/png": "[encoded data removed]",
      "text/plain": [
       "<Figure size 1200x600 with 1 Axes>"
      ]
     },
     "metadata": {},
     "output_type": "display_data"
    },
    {
     "data": {
      "image/png": "[encoded data removed]",
      "text/plain": [
       "<Figure size 1200x600 with 1 Axes>"
      ]
     },
     "metadata": {},
     "output_type": "display_data"
    }
   ],
   "source": [
    "from dynamic_pricing.analysis.metrics import calculate_prep_time_per_interval\n",
    "\n",
    "calculate_prep_time_per_interval(seasonal_dp_df_weekdays, interval, plot=True)\n",
    "calculate_prep_time_per_interval(seasonal_dp_df_weekends, interval,plot=True)"
   ]
  },
  {
   "cell_type": "code",
   "execution_count": 13,
   "metadata": {},
   "outputs": [
    {
     "name": "stdout",
     "output_type": "stream",
     "text": [
      "15368.899999999985\n",
      "6750.499999999998\n"
     ]
    }
   ],
   "source": [
    "from dynamic_pricing.analysis.metrics import calculate_revenue_by_day_period\n",
    "\n",
    "time_intervals = [\"00:00\", \"14:00\", \"18:45\", \"23:59:59\"]\n",
    "seasonal_dp_df_weekday_revenue = calculate_revenue_by_day_period(\n",
    "    seasonal_dp_df_weekdays, time_intervals=time_intervals\n",
    ")\n",
    "seasonal_dp_df_weekend_revenue = calculate_revenue_by_day_period(\n",
    "    seasonal_dp_df_weekends, time_intervals=time_intervals\n",
    ")\n",
    "\n",
    "print(seasonal_dp_df_weekday_revenue.sum())\n",
    "print(seasonal_dp_df_weekend_revenue.sum())"
   ]
  },
  {
   "cell_type": "code",
   "execution_count": 14,
   "metadata": {},
   "outputs": [
    {
     "name": "stdout",
     "output_type": "stream",
     "text": [
      "interval_label\n",
      "00:00:00 to 14:00:00    1146.8\n",
      "14:00:00 to 18:45:00    5008.3\n",
      "18:45:00 to 23:59:59    4280.3\n",
      "Name: profit, dtype: object 10435.39999999999\n",
      "interval_label\n",
      "00:00:00 to 14:00:00     572.0\n",
      "14:00:00 to 18:45:00    2291.1\n",
      "18:45:00 to 23:59:59    1675.9\n",
      "Name: profit, dtype: object 4539.000000000001\n"
     ]
    }
   ],
   "source": [
    "from dynamic_pricing.analysis.metrics import calculate_profit_by_day_period\n",
    "\n",
    "time_intervals = [\"00:00\", \"14:00\", \"18:45\", \"23:59:59\"]\n",
    "seasonal_dp_df_weekday_profit = calculate_profit_by_day_period(\n",
    "    seasonal_dp_df_weekdays, time_intervals=time_intervals\n",
    ")\n",
    "seasonal_dp_df_weekend_profit = calculate_profit_by_day_period(\n",
    "    seasonal_dp_df_weekends, time_intervals=time_intervals\n",
    ")\n",
    "\n",
    "\n",
    "print(seasonal_dp_df_weekday_profit, seasonal_dp_df_weekday_profit.sum())\n",
    "print(seasonal_dp_df_weekend_profit, seasonal_dp_df_weekend_profit.sum())"
   ]
  },
  {
   "cell_type": "code",
   "execution_count": 15,
   "metadata": {},
   "outputs": [
    {
     "name": "stdout",
     "output_type": "stream",
     "text": [
      "Period 1 skipped due to insufficient order days (4 days)\n",
      "Period 12 skipped due to insufficient order days (0 days)\n",
      "Index(['00:00:00 to 14:00:00', '14:00:00 to 18:45:00', '18:45:00 to 23:59:59',\n",
      "       'Period'],\n",
      "      dtype='object', name='interval_label')\n"
     ]
    },
    {
     "data": {
      "application/vnd.plotly.v1+json": {
       "config": {
        "plotlyServerURL": "https://plot.ly"
       },
       "data": [
        {
         "mode": "lines+markers",
         "name": "00:00:00 to 14:00:00",
         "type": "scatter",
         "x": [
          2,
          3,
          4,
          5,
          6,
          7,
          8,
          9,
          10,
          11
         ],
         "y": [
          59.900000000000006,
          25.7,
          87.30000000000001,
          281.5,
          137.2,
          44,
          96,
          154.60000000000002,
          45.7,
          214.9
         ]
        },
        {
         "mode": "lines+markers",
         "name": "14:00:00 to 18:45:00",
         "type": "scatter",
         "x": [
          2,
          3,
          4,
          5,
          6,
          7,
          8,
          9,
          10,
          11
         ],
         "y": [
          279.8,
          637.5999999999998,
          695.4000000000001,
          569.4,
          548.3,
          417.2,
          396.69999999999993,
          507.79999999999995,
          401.29999999999995,
          511.69999999999993
         ]
        },
        {
         "mode": "lines+markers",
         "name": "18:45:00 to 23:59:59",
         "type": "scatter",
         "x": [
          2,
          3,
          4,
          5,
          6,
          7,
          8,
          9,
          10,
          11
         ],
         "y": [
          331.79999999999995,
          140.8,
          146.3,
          459.4,
          439.49999999999994,
          474.4999999999999,
          563.9000000000001,
          746.2,
          593.7,
          371.69999999999993
         ]
        }
       ],
       "layout": {
        "legend": {
         "title": {
          "text": "Day Period"
         }
        },
        "template": {
         "data": {
          "bar": [
           {
            "error_x": {
             "color": "#2a3f5f"
            },
            "error_y": {
             "color": "#2a3f5f"
            },
            "marker": {
             "line": {
              "color": "#E5ECF6",
              "width": 0.5
             },
             "pattern": {
              "fillmode": "overlay",
              "size": 10,
              "solidity": 0.2
             }
            },
            "type": "bar"
           }
          ],
          "barpolar": [
           {
            "marker": {
             "line": {
              "color": "#E5ECF6",
              "width": 0.5
             },
             "pattern": {
              "fillmode": "overlay",
              "size": 10,
              "solidity": 0.2
             }
            },
            "type": "barpolar"
           }
          ],
          "carpet": [
           {
            "aaxis": {
             "endlinecolor": "#2a3f5f",
             "gridcolor": "white",
             "linecolor": "white",
             "minorgridcolor": "white",
             "startlinecolor": "#2a3f5f"
            },
            "baxis": {
             "endlinecolor": "#2a3f5f",
             "gridcolor": "white",
             "linecolor": "white",
             "minorgridcolor": "white",
             "startlinecolor": "#2a3f5f"
            },
            "type": "carpet"
           }
          ],
          "choropleth": [
           {
            "colorbar": {
             "outlinewidth": 0,
             "ticks": ""
            },
            "type": "choropleth"
           }
          ],
          "contour": [
           {
            "colorbar": {
             "outlinewidth": 0,
             "ticks": ""
            },
            "colorscale": [
             [
              0,
              "#0d0887"
             ],
             [
              0.1111111111111111,
              "#46039f"
             ],
             [
              0.2222222222222222,
              "#7201a8"
             ],
             [
              0.3333333333333333,
              "#9c179e"
             ],
             [
              0.4444444444444444,
              "#bd3786"
             ],
             [
              0.5555555555555556,
              "#d8576b"
             ],
             [
              0.6666666666666666,
              "#ed7953"
             ],
             [
              0.7777777777777778,
              "#fb9f3a"
             ],
             [
              0.8888888888888888,
              "#fdca26"
             ],
             [
              1,
              "#f0f921"
             ]
            ],
            "type": "contour"
           }
          ],
          "contourcarpet": [
           {
            "colorbar": {
             "outlinewidth": 0,
             "ticks": ""
            },
            "type": "contourcarpet"
           }
          ],
          "heatmap": [
           {
            "colorbar": {
             "outlinewidth": 0,
             "ticks": ""
            },
            "colorscale": [
             [
              0,
              "#0d0887"
             ],
             [
              0.1111111111111111,
              "#46039f"
             ],
             [
              0.2222222222222222,
              "#7201a8"
             ],
             [
              0.3333333333333333,
              "#9c179e"
             ],
             [
              0.4444444444444444,
              "#bd3786"
             ],
             [
              0.5555555555555556,
              "#d8576b"
             ],
             [
              0.6666666666666666,
              "#ed7953"
             ],
             [
              0.7777777777777778,
              "#fb9f3a"
             ],
             [
              0.8888888888888888,
              "#fdca26"
             ],
             [
              1,
              "#f0f921"
             ]
            ],
            "type": "heatmap"
           }
          ],
          "heatmapgl": [
           {
            "colorbar": {
             "outlinewidth": 0,
             "ticks": ""
            },
            "colorscale": [
             [
              0,
              "#0d0887"
             ],
             [
              0.1111111111111111,
              "#46039f"
             ],
             [
              0.2222222222222222,
              "#7201a8"
             ],
             [
              0.3333333333333333,
              "#9c179e"
             ],
             [
              0.4444444444444444,
              "#bd3786"
             ],
             [
              0.5555555555555556,
              "#d8576b"
             ],
             [
              0.6666666666666666,
              "#ed7953"
             ],
             [
              0.7777777777777778,
              "#fb9f3a"
             ],
             [
              0.8888888888888888,
              "#fdca26"
             ],
             [
              1,
              "#f0f921"
             ]
            ],
            "type": "heatmapgl"
           }
          ],
          "histogram": [
           {
            "marker": {
             "pattern": {
              "fillmode": "overlay",
              "size": 10,
              "solidity": 0.2
             }
            },
            "type": "histogram"
           }
          ],
          "histogram2d": [
           {
            "colorbar": {
             "outlinewidth": 0,
             "ticks": ""
            },
            "colorscale": [
             [
              0,
              "#0d0887"
             ],
             [
              0.1111111111111111,
              "#46039f"
             ],
             [
              0.2222222222222222,
              "#7201a8"
             ],
             [
              0.3333333333333333,
              "#9c179e"
             ],
             [
              0.4444444444444444,
              "#bd3786"
             ],
             [
              0.5555555555555556,
              "#d8576b"
             ],
             [
              0.6666666666666666,
              "#ed7953"
             ],
             [
              0.7777777777777778,
              "#fb9f3a"
             ],
             [
              0.8888888888888888,
              "#fdca26"
             ],
             [
              1,
              "#f0f921"
             ]
            ],
            "type": "histogram2d"
           }
          ],
          "histogram2dcontour": [
           {
            "colorbar": {
             "outlinewidth": 0,
             "ticks": ""
            },
            "colorscale": [
             [
              0,
              "#0d0887"
             ],
             [
              0.1111111111111111,
              "#46039f"
             ],
             [
              0.2222222222222222,
              "#7201a8"
             ],
             [
              0.3333333333333333,
              "#9c179e"
             ],
             [
              0.4444444444444444,
              "#bd3786"
             ],
             [
              0.5555555555555556,
              "#d8576b"
             ],
             [
              0.6666666666666666,
              "#ed7953"
             ],
             [
              0.7777777777777778,
              "#fb9f3a"
             ],
             [
              0.8888888888888888,
              "#fdca26"
             ],
             [
              1,
              "#f0f921"
             ]
            ],
            "type": "histogram2dcontour"
           }
          ],
          "mesh3d": [
           {
            "colorbar": {
             "outlinewidth": 0,
             "ticks": ""
            },
            "type": "mesh3d"
           }
          ],
          "parcoords": [
           {
            "line": {
             "colorbar": {
              "outlinewidth": 0,
              "ticks": ""
             }
            },
            "type": "parcoords"
           }
          ],
          "pie": [
           {
            "automargin": true,
            "type": "pie"
           }
          ],
          "scatter": [
           {
            "fillpattern": {
             "fillmode": "overlay",
             "size": 10,
             "solidity": 0.2
            },
            "type": "scatter"
           }
          ],
          "scatter3d": [
           {
            "line": {
             "colorbar": {
              "outlinewidth": 0,
              "ticks": ""
             }
            },
            "marker": {
             "colorbar": {
              "outlinewidth": 0,
              "ticks": ""
             }
            },
            "type": "scatter3d"
           }
          ],
          "scattercarpet": [
           {
            "marker": {
             "colorbar": {
              "outlinewidth": 0,
              "ticks": ""
             }
            },
            "type": "scattercarpet"
           }
          ],
          "scattergeo": [
           {
            "marker": {
             "colorbar": {
              "outlinewidth": 0,
              "ticks": ""
             }
            },
            "type": "scattergeo"
           }
          ],
          "scattergl": [
           {
            "marker": {
             "colorbar": {
              "outlinewidth": 0,
              "ticks": ""
             }
            },
            "type": "scattergl"
           }
          ],
          "scattermapbox": [
           {
            "marker": {
             "colorbar": {
              "outlinewidth": 0,
              "ticks": ""
             }
            },
            "type": "scattermapbox"
           }
          ],
          "scatterpolar": [
           {
            "marker": {
             "colorbar": {
              "outlinewidth": 0,
              "ticks": ""
             }
            },
            "type": "scatterpolar"
           }
          ],
          "scatterpolargl": [
           {
            "marker": {
             "colorbar": {
              "outlinewidth": 0,
              "ticks": ""
             }
            },
            "type": "scatterpolargl"
           }
          ],
          "scatterternary": [
           {
            "marker": {
             "colorbar": {
              "outlinewidth": 0,
              "ticks": ""
             }
            },
            "type": "scatterternary"
           }
          ],
          "surface": [
           {
            "colorbar": {
             "outlinewidth": 0,
             "ticks": ""
            },
            "colorscale": [
             [
              0,
              "#0d0887"
             ],
             [
              0.1111111111111111,
              "#46039f"
             ],
             [
              0.2222222222222222,
              "#7201a8"
             ],
             [
              0.3333333333333333,
              "#9c179e"
             ],
             [
              0.4444444444444444,
              "#bd3786"
             ],
             [
              0.5555555555555556,
              "#d8576b"
             ],
             [
              0.6666666666666666,
              "#ed7953"
             ],
             [
              0.7777777777777778,
              "#fb9f3a"
             ],
             [
              0.8888888888888888,
              "#fdca26"
             ],
             [
              1,
              "#f0f921"
             ]
            ],
            "type": "surface"
           }
          ],
          "table": [
           {
            "cells": {
             "fill": {
              "color": "#EBF0F8"
             },
             "line": {
              "color": "white"
             }
            },
            "header": {
             "fill": {
              "color": "#C8D4E3"
             },
             "line": {
              "color": "white"
             }
            },
            "type": "table"
           }
          ]
         },
         "layout": {
          "annotationdefaults": {
           "arrowcolor": "#2a3f5f",
           "arrowhead": 0,
           "arrowwidth": 1
          },
          "autotypenumbers": "strict",
          "coloraxis": {
           "colorbar": {
            "outlinewidth": 0,
            "ticks": ""
           }
          },
          "colorscale": {
           "diverging": [
            [
             0,
             "#8e0152"
            ],
            [
             0.1,
             "#c51b7d"
            ],
            [
             0.2,
             "#de77ae"
            ],
            [
             0.3,
             "#f1b6da"
            ],
            [
             0.4,
             "#fde0ef"
            ],
            [
             0.5,
             "#f7f7f7"
            ],
            [
             0.6,
             "#e6f5d0"
            ],
            [
             0.7,
             "#b8e186"
            ],
            [
             0.8,
             "#7fbc41"
            ],
            [
             0.9,
             "#4d9221"
            ],
            [
             1,
             "#276419"
            ]
           ],
           "sequential": [
            [
             0,
             "#0d0887"
            ],
            [
             0.1111111111111111,
             "#46039f"
            ],
            [
             0.2222222222222222,
             "#7201a8"
            ],
            [
             0.3333333333333333,
             "#9c179e"
            ],
            [
             0.4444444444444444,
             "#bd3786"
            ],
            [
             0.5555555555555556,
             "#d8576b"
            ],
            [
             0.6666666666666666,
             "#ed7953"
            ],
            [
             0.7777777777777778,
             "#fb9f3a"
            ],
            [
             0.8888888888888888,
             "#fdca26"
            ],
            [
             1,
             "#f0f921"
            ]
           ],
           "sequentialminus": [
            [
             0,
             "#0d0887"
            ],
            [
             0.1111111111111111,
             "#46039f"
            ],
            [
             0.2222222222222222,
             "#7201a8"
            ],
            [
             0.3333333333333333,
             "#9c179e"
            ],
            [
             0.4444444444444444,
             "#bd3786"
            ],
            [
             0.5555555555555556,
             "#d8576b"
            ],
            [
             0.6666666666666666,
             "#ed7953"
            ],
            [
             0.7777777777777778,
             "#fb9f3a"
            ],
            [
             0.8888888888888888,
             "#fdca26"
            ],
            [
             1,
             "#f0f921"
            ]
           ]
          },
          "colorway": [
           "#636efa",
           "#EF553B",
           "#00cc96",
           "#ab63fa",
           "#FFA15A",
           "#19d3f3",
           "#FF6692",
           "#B6E880",
           "#FF97FF",
           "#FECB52"
          ],
          "font": {
           "color": "#2a3f5f"
          },
          "geo": {
           "bgcolor": "white",
           "lakecolor": "white",
           "landcolor": "#E5ECF6",
           "showlakes": true,
           "showland": true,
           "subunitcolor": "white"
          },
          "hoverlabel": {
           "align": "left"
          },
          "hovermode": "closest",
          "mapbox": {
           "style": "light"
          },
          "paper_bgcolor": "white",
          "plot_bgcolor": "#E5ECF6",
          "polar": {
           "angularaxis": {
            "gridcolor": "white",
            "linecolor": "white",
            "ticks": ""
           },
           "bgcolor": "#E5ECF6",
           "radialaxis": {
            "gridcolor": "white",
            "linecolor": "white",
            "ticks": ""
           }
          },
          "scene": {
           "xaxis": {
            "backgroundcolor": "#E5ECF6",
            "gridcolor": "white",
            "gridwidth": 2,
            "linecolor": "white",
            "showbackground": true,
            "ticks": "",
            "zerolinecolor": "white"
           },
           "yaxis": {
            "backgroundcolor": "#E5ECF6",
            "gridcolor": "white",
            "gridwidth": 2,
            "linecolor": "white",
            "showbackground": true,
            "ticks": "",
            "zerolinecolor": "white"
           },
           "zaxis": {
            "backgroundcolor": "#E5ECF6",
            "gridcolor": "white",
            "gridwidth": 2,
            "linecolor": "white",
            "showbackground": true,
            "ticks": "",
            "zerolinecolor": "white"
           }
          },
          "shapedefaults": {
           "line": {
            "color": "#2a3f5f"
           }
          },
          "ternary": {
           "aaxis": {
            "gridcolor": "white",
            "linecolor": "white",
            "ticks": ""
           },
           "baxis": {
            "gridcolor": "white",
            "linecolor": "white",
            "ticks": ""
           },
           "bgcolor": "#E5ECF6",
           "caxis": {
            "gridcolor": "white",
            "linecolor": "white",
            "ticks": ""
           }
          },
          "title": {
           "x": 0.05
          },
          "xaxis": {
           "automargin": true,
           "gridcolor": "white",
           "linecolor": "white",
           "ticks": "",
           "title": {
            "standoff": 15
           },
           "zerolinecolor": "white",
           "zerolinewidth": 2
          },
          "yaxis": {
           "automargin": true,
           "gridcolor": "white",
           "linecolor": "white",
           "ticks": "",
           "title": {
            "standoff": 15
           },
           "zerolinecolor": "white",
           "zerolinewidth": 2
          }
         }
        },
        "title": {
         "text": "Chagnes in Profit Over Weekly Periods"
        },
        "xaxis": {
         "title": {
          "text": "Weeks"
         }
        },
        "yaxis": {
         "title": {
          "text": "Profit"
         }
        }
       }
      }
     },
     "metadata": {},
     "output_type": "display_data"
    },
    {
     "name": "stdout",
     "output_type": "stream",
     "text": [
      "Period 1 skipped due to insufficient order days (1 days)\n",
      "Index(['00:00:00 to 14:00:00', '14:00:00 to 18:45:00', '18:45:00 to 23:59:59',\n",
      "       'Period'],\n",
      "      dtype='object', name='interval_label')\n"
     ]
    },
    {
     "data": {
      "application/vnd.plotly.v1+json": {
       "config": {
        "plotlyServerURL": "https://plot.ly"
       },
       "data": [
        {
         "mode": "lines+markers",
         "name": "00:00:00 to 14:00:00",
         "type": "scatter",
         "x": [
          2,
          3,
          4,
          5,
          6,
          7,
          8,
          9,
          10,
          11
         ],
         "y": [
          35,
          62.400000000000006,
          44.2,
          25.7,
          25,
          20,
          23.2,
          86.9,
          91.4,
          134.2
         ]
        },
        {
         "mode": "lines+markers",
         "name": "14:00:00 to 18:45:00",
         "type": "scatter",
         "x": [
          2,
          3,
          4,
          5,
          6,
          7,
          8,
          9,
          10,
          11
         ],
         "y": [
          174.6,
          229.9,
          284.2,
          265.8,
          184.59999999999997,
          163.8,
          234.59999999999997,
          239,
          141.2,
          348.4
         ]
        },
        {
         "mode": "lines+markers",
         "name": "18:45:00 to 23:59:59",
         "type": "scatter",
         "x": [
          2,
          3,
          4,
          5,
          6,
          7,
          8,
          9,
          10,
          11
         ],
         "y": [
          76.80000000000001,
          38,
          32.3,
          71.4,
          215.2,
          291.7,
          244.19999999999993,
          210.3,
          244.9,
          226.1
         ]
        }
       ],
       "layout": {
        "legend": {
         "title": {
          "text": "Day Period"
         }
        },
        "template": {
         "data": {
          "bar": [
           {
            "error_x": {
             "color": "#2a3f5f"
            },
            "error_y": {
             "color": "#2a3f5f"
            },
            "marker": {
             "line": {
              "color": "#E5ECF6",
              "width": 0.5
             },
             "pattern": {
              "fillmode": "overlay",
              "size": 10,
              "solidity": 0.2
             }
            },
            "type": "bar"
           }
          ],
          "barpolar": [
           {
            "marker": {
             "line": {
              "color": "#E5ECF6",
              "width": 0.5
             },
             "pattern": {
              "fillmode": "overlay",
              "size": 10,
              "solidity": 0.2
             }
            },
            "type": "barpolar"
           }
          ],
          "carpet": [
           {
            "aaxis": {
             "endlinecolor": "#2a3f5f",
             "gridcolor": "white",
             "linecolor": "white",
             "minorgridcolor": "white",
             "startlinecolor": "#2a3f5f"
            },
            "baxis": {
             "endlinecolor": "#2a3f5f",
             "gridcolor": "white",
             "linecolor": "white",
             "minorgridcolor": "white",
             "startlinecolor": "#2a3f5f"
            },
            "type": "carpet"
           }
          ],
          "choropleth": [
           {
            "colorbar": {
             "outlinewidth": 0,
             "ticks": ""
            },
            "type": "choropleth"
           }
          ],
          "contour": [
           {
            "colorbar": {
             "outlinewidth": 0,
             "ticks": ""
            },
            "colorscale": [
             [
              0,
              "#0d0887"
             ],
             [
              0.1111111111111111,
              "#46039f"
             ],
             [
              0.2222222222222222,
              "#7201a8"
             ],
             [
              0.3333333333333333,
              "#9c179e"
             ],
             [
              0.4444444444444444,
              "#bd3786"
             ],
             [
              0.5555555555555556,
              "#d8576b"
             ],
             [
              0.6666666666666666,
              "#ed7953"
             ],
             [
              0.7777777777777778,
              "#fb9f3a"
             ],
             [
              0.8888888888888888,
              "#fdca26"
             ],
             [
              1,
              "#f0f921"
             ]
            ],
            "type": "contour"
           }
          ],
          "contourcarpet": [
           {
            "colorbar": {
             "outlinewidth": 0,
             "ticks": ""
            },
            "type": "contourcarpet"
           }
          ],
          "heatmap": [
           {
            "colorbar": {
             "outlinewidth": 0,
             "ticks": ""
            },
            "colorscale": [
             [
              0,
              "#0d0887"
             ],
             [
              0.1111111111111111,
              "#46039f"
             ],
             [
              0.2222222222222222,
              "#7201a8"
             ],
             [
              0.3333333333333333,
              "#9c179e"
             ],
             [
              0.4444444444444444,
              "#bd3786"
             ],
             [
              0.5555555555555556,
              "#d8576b"
             ],
             [
              0.6666666666666666,
              "#ed7953"
             ],
             [
              0.7777777777777778,
              "#fb9f3a"
             ],
             [
              0.8888888888888888,
              "#fdca26"
             ],
             [
              1,
              "#f0f921"
             ]
            ],
            "type": "heatmap"
           }
          ],
          "heatmapgl": [
           {
            "colorbar": {
             "outlinewidth": 0,
             "ticks": ""
            },
            "colorscale": [
             [
              0,
              "#0d0887"
             ],
             [
              0.1111111111111111,
              "#46039f"
             ],
             [
              0.2222222222222222,
              "#7201a8"
             ],
             [
              0.3333333333333333,
              "#9c179e"
             ],
             [
              0.4444444444444444,
              "#bd3786"
             ],
             [
              0.5555555555555556,
              "#d8576b"
             ],
             [
              0.6666666666666666,
              "#ed7953"
             ],
             [
              0.7777777777777778,
              "#fb9f3a"
             ],
             [
              0.8888888888888888,
              "#fdca26"
             ],
             [
              1,
              "#f0f921"
             ]
            ],
            "type": "heatmapgl"
           }
          ],
          "histogram": [
           {
            "marker": {
             "pattern": {
              "fillmode": "overlay",
              "size": 10,
              "solidity": 0.2
             }
            },
            "type": "histogram"
           }
          ],
          "histogram2d": [
           {
            "colorbar": {
             "outlinewidth": 0,
             "ticks": ""
            },
            "colorscale": [
             [
              0,
              "#0d0887"
             ],
             [
              0.1111111111111111,
              "#46039f"
             ],
             [
              0.2222222222222222,
              "#7201a8"
             ],
             [
              0.3333333333333333,
              "#9c179e"
             ],
             [
              0.4444444444444444,
              "#bd3786"
             ],
             [
              0.5555555555555556,
              "#d8576b"
             ],
             [
              0.6666666666666666,
              "#ed7953"
             ],
             [
              0.7777777777777778,
              "#fb9f3a"
             ],
             [
              0.8888888888888888,
              "#fdca26"
             ],
             [
              1,
              "#f0f921"
             ]
            ],
            "type": "histogram2d"
           }
          ],
          "histogram2dcontour": [
           {
            "colorbar": {
             "outlinewidth": 0,
             "ticks": ""
            },
            "colorscale": [
             [
              0,
              "#0d0887"
             ],
             [
              0.1111111111111111,
              "#46039f"
             ],
             [
              0.2222222222222222,
              "#7201a8"
             ],
             [
              0.3333333333333333,
              "#9c179e"
             ],
             [
              0.4444444444444444,
              "#bd3786"
             ],
             [
              0.5555555555555556,
              "#d8576b"
             ],
             [
              0.6666666666666666,
              "#ed7953"
             ],
             [
              0.7777777777777778,
              "#fb9f3a"
             ],
             [
              0.8888888888888888,
              "#fdca26"
             ],
             [
              1,
              "#f0f921"
             ]
            ],
            "type": "histogram2dcontour"
           }
          ],
          "mesh3d": [
           {
            "colorbar": {
             "outlinewidth": 0,
             "ticks": ""
            },
            "type": "mesh3d"
           }
          ],
          "parcoords": [
           {
            "line": {
             "colorbar": {
              "outlinewidth": 0,
              "ticks": ""
             }
            },
            "type": "parcoords"
           }
          ],
          "pie": [
           {
            "automargin": true,
            "type": "pie"
           }
          ],
          "scatter": [
           {
            "fillpattern": {
             "fillmode": "overlay",
             "size": 10,
             "solidity": 0.2
            },
            "type": "scatter"
           }
          ],
          "scatter3d": [
           {
            "line": {
             "colorbar": {
              "outlinewidth": 0,
              "ticks": ""
             }
            },
            "marker": {
             "colorbar": {
              "outlinewidth": 0,
              "ticks": ""
             }
            },
            "type": "scatter3d"
           }
          ],
          "scattercarpet": [
           {
            "marker": {
             "colorbar": {
              "outlinewidth": 0,
              "ticks": ""
             }
            },
            "type": "scattercarpet"
           }
          ],
          "scattergeo": [
           {
            "marker": {
             "colorbar": {
              "outlinewidth": 0,
              "ticks": ""
             }
            },
            "type": "scattergeo"
           }
          ],
          "scattergl": [
           {
            "marker": {
             "colorbar": {
              "outlinewidth": 0,
              "ticks": ""
             }
            },
            "type": "scattergl"
           }
          ],
          "scattermapbox": [
           {
            "marker": {
             "colorbar": {
              "outlinewidth": 0,
              "ticks": ""
             }
            },
            "type": "scattermapbox"
           }
          ],
          "scatterpolar": [
           {
            "marker": {
             "colorbar": {
              "outlinewidth": 0,
              "ticks": ""
             }
            },
            "type": "scatterpolar"
           }
          ],
          "scatterpolargl": [
           {
            "marker": {
             "colorbar": {
              "outlinewidth": 0,
              "ticks": ""
             }
            },
            "type": "scatterpolargl"
           }
          ],
          "scatterternary": [
           {
            "marker": {
             "colorbar": {
              "outlinewidth": 0,
              "ticks": ""
             }
            },
            "type": "scatterternary"
           }
          ],
          "surface": [
           {
            "colorbar": {
             "outlinewidth": 0,
             "ticks": ""
            },
            "colorscale": [
             [
              0,
              "#0d0887"
             ],
             [
              0.1111111111111111,
              "#46039f"
             ],
             [
              0.2222222222222222,
              "#7201a8"
             ],
             [
              0.3333333333333333,
              "#9c179e"
             ],
             [
              0.4444444444444444,
              "#bd3786"
             ],
             [
              0.5555555555555556,
              "#d8576b"
             ],
             [
              0.6666666666666666,
              "#ed7953"
             ],
             [
              0.7777777777777778,
              "#fb9f3a"
             ],
             [
              0.8888888888888888,
              "#fdca26"
             ],
             [
              1,
              "#f0f921"
             ]
            ],
            "type": "surface"
           }
          ],
          "table": [
           {
            "cells": {
             "fill": {
              "color": "#EBF0F8"
             },
             "line": {
              "color": "white"
             }
            },
            "header": {
             "fill": {
              "color": "#C8D4E3"
             },
             "line": {
              "color": "white"
             }
            },
            "type": "table"
           }
          ]
         },
         "layout": {
          "annotationdefaults": {
           "arrowcolor": "#2a3f5f",
           "arrowhead": 0,
           "arrowwidth": 1
          },
          "autotypenumbers": "strict",
          "coloraxis": {
           "colorbar": {
            "outlinewidth": 0,
            "ticks": ""
           }
          },
          "colorscale": {
           "diverging": [
            [
             0,
             "#8e0152"
            ],
            [
             0.1,
             "#c51b7d"
            ],
            [
             0.2,
             "#de77ae"
            ],
            [
             0.3,
             "#f1b6da"
            ],
            [
             0.4,
             "#fde0ef"
            ],
            [
             0.5,
             "#f7f7f7"
            ],
            [
             0.6,
             "#e6f5d0"
            ],
            [
             0.7,
             "#b8e186"
            ],
            [
             0.8,
             "#7fbc41"
            ],
            [
             0.9,
             "#4d9221"
            ],
            [
             1,
             "#276419"
            ]
           ],
           "sequential": [
            [
             0,
             "#0d0887"
            ],
            [
             0.1111111111111111,
             "#46039f"
            ],
            [
             0.2222222222222222,
             "#7201a8"
            ],
            [
             0.3333333333333333,
             "#9c179e"
            ],
            [
             0.4444444444444444,
             "#bd3786"
            ],
            [
             0.5555555555555556,
             "#d8576b"
            ],
            [
             0.6666666666666666,
             "#ed7953"
            ],
            [
             0.7777777777777778,
             "#fb9f3a"
            ],
            [
             0.8888888888888888,
             "#fdca26"
            ],
            [
             1,
             "#f0f921"
            ]
           ],
           "sequentialminus": [
            [
             0,
             "#0d0887"
            ],
            [
             0.1111111111111111,
             "#46039f"
            ],
            [
             0.2222222222222222,
             "#7201a8"
            ],
            [
             0.3333333333333333,
             "#9c179e"
            ],
            [
             0.4444444444444444,
             "#bd3786"
            ],
            [
             0.5555555555555556,
             "#d8576b"
            ],
            [
             0.6666666666666666,
             "#ed7953"
            ],
            [
             0.7777777777777778,
             "#fb9f3a"
            ],
            [
             0.8888888888888888,
             "#fdca26"
            ],
            [
             1,
             "#f0f921"
            ]
           ]
          },
          "colorway": [
           "#636efa",
           "#EF553B",
           "#00cc96",
           "#ab63fa",
           "#FFA15A",
           "#19d3f3",
           "#FF6692",
           "#B6E880",
           "#FF97FF",
           "#FECB52"
          ],
          "font": {
           "color": "#2a3f5f"
          },
          "geo": {
           "bgcolor": "white",
           "lakecolor": "white",
           "landcolor": "#E5ECF6",
           "showlakes": true,
           "showland": true,
           "subunitcolor": "white"
          },
          "hoverlabel": {
           "align": "left"
          },
          "hovermode": "closest",
          "mapbox": {
           "style": "light"
          },
          "paper_bgcolor": "white",
          "plot_bgcolor": "#E5ECF6",
          "polar": {
           "angularaxis": {
            "gridcolor": "white",
            "linecolor": "white",
            "ticks": ""
           },
           "bgcolor": "#E5ECF6",
           "radialaxis": {
            "gridcolor": "white",
            "linecolor": "white",
            "ticks": ""
           }
          },
          "scene": {
           "xaxis": {
            "backgroundcolor": "#E5ECF6",
            "gridcolor": "white",
            "gridwidth": 2,
            "linecolor": "white",
            "showbackground": true,
            "ticks": "",
            "zerolinecolor": "white"
           },
           "yaxis": {
            "backgroundcolor": "#E5ECF6",
            "gridcolor": "white",
            "gridwidth": 2,
            "linecolor": "white",
            "showbackground": true,
            "ticks": "",
            "zerolinecolor": "white"
           },
           "zaxis": {
            "backgroundcolor": "#E5ECF6",
            "gridcolor": "white",
            "gridwidth": 2,
            "linecolor": "white",
            "showbackground": true,
            "ticks": "",
            "zerolinecolor": "white"
           }
          },
          "shapedefaults": {
           "line": {
            "color": "#2a3f5f"
           }
          },
          "ternary": {
           "aaxis": {
            "gridcolor": "white",
            "linecolor": "white",
            "ticks": ""
           },
           "baxis": {
            "gridcolor": "white",
            "linecolor": "white",
            "ticks": ""
           },
           "bgcolor": "#E5ECF6",
           "caxis": {
            "gridcolor": "white",
            "linecolor": "white",
            "ticks": ""
           }
          },
          "title": {
           "x": 0.05
          },
          "xaxis": {
           "automargin": true,
           "gridcolor": "white",
           "linecolor": "white",
           "ticks": "",
           "title": {
            "standoff": 15
           },
           "zerolinecolor": "white",
           "zerolinewidth": 2
          },
          "yaxis": {
           "automargin": true,
           "gridcolor": "white",
           "linecolor": "white",
           "ticks": "",
           "title": {
            "standoff": 15
           },
           "zerolinecolor": "white",
           "zerolinewidth": 2
          }
         }
        },
        "title": {
         "text": "Chagnes in Profit Over Weekly Periods"
        },
        "xaxis": {
         "title": {
          "text": "Weeks"
         }
        },
        "yaxis": {
         "title": {
          "text": "Profit"
         }
        }
       }
      }
     },
     "metadata": {},
     "output_type": "display_data"
    }
   ],
   "source": [
    "from dynamic_pricing.analysis.metrics import calculate_profits_over_periods\n",
    "\n",
    "time_intervals = [\"00:00\", \"14:00\", \"18:45\", \"23:59:59\"]\n",
    "seasonal_dp_df_weekday_profit = calculate_profits_over_periods(\n",
    "    seasonal_dp_df_weekdays, time_intervals,plot=True\n",
    ")\n",
    "seasonal_dp_df_weekend_profit = calculate_profits_over_periods(\n",
    "    seasonal_dp_df_weekends, time_intervals, plot=True\n",
    ")"
   ]
  },
  {
   "cell_type": "code",
   "execution_count": 16,
   "metadata": {},
   "outputs": [
    {
     "name": "stdout",
     "output_type": "stream",
     "text": [
      "col_0     count\n",
      "category       \n",
      "Cash Cow     37\n",
      "Puzzle        3\n",
      "Star         74\n",
      "col_0     count\n",
      "category       \n",
      "Cash Cow     50\n",
      "Dud           4\n",
      "Puzzle       11\n",
      "Star         71\n"
     ]
    }
   ],
   "source": [
    "from dynamic_pricing.analysis.metrics import (\n",
    "    generate_menu_matrix,\n",
    ")\n",
    "\n",
    "pre_df_menu_matrix = generate_menu_matrix(pre_dp_df)\n",
    "post_df_menu_matrix = generate_menu_matrix(post_dp_df)\n",
    "print(\n",
    "    pd.crosstab(\n",
    "        index=pre_df_menu_matrix[\"category\"], columns=\"count\"\n",
    "    )\n",
    ")\n",
    "print(\n",
    "    pd.crosstab(\n",
    "        index=post_df_menu_matrix[\"category\"], columns=\"count\"\n",
    "    )\n",
    ")"
   ]
  },
  {
   "cell_type": "code",
   "execution_count": 17,
   "metadata": {},
   "outputs": [
    {
     "data": {
      "application/vnd.plotly.v1+json": {
       "config": {
        "plotlyServerURL": "https://plot.ly"
       },
       "data": [
        {
         "hovertemplate": "<b>%{hovertext}</b><br><br>category=Star<br>Profitability=%{x}<br>Popularity=%{y}<br>item_name=%{text}<extra></extra>",
         "hovertext": [
          "Chicken Skewer Wrap",
          "Chicken Gyros Wrap",
          "Pork Gyros Wrap",
          "Chicken Gyros Wrap",
          "Pork Gyros Wrap",
          "Chicken Gyros Wrap",
          "Chicken Skewer Wrap",
          "Chicken Gyros Wrap",
          "Pork Gyros Wrap",
          "Chicken Gyros Wrap",
          "Pork Gyros Wrap",
          "Mixed Gyros Wrap",
          "Chicken Gyros Wrap",
          "Chicken Skewers",
          "Chicken Gyros Wrap",
          "Chicken Skewer Wrap",
          "Mixed Platter (1-2 People)",
          "Vegetarian Courgette Balls Wrap",
          "Chicken Gyros Wrap",
          "Chicken Skewer Wrap",
          "Chicken Gyros Wrap",
          "Chicken Skewers",
          "Vegetarian Mousaka",
          "Pork Skewers",
          "Chicken Skewer Wrap",
          "Chicken Gyros Wrap",
          "Pork Gyros Wrap",
          "Chicken Skewer Wrap",
          "Chicken Skewer Wrap",
          "Chicken Skewer Wrap",
          "Chicken Skewer Wrap",
          "Chicken Skewer Wrap",
          "Chicken Gyros Wrap",
          "Pork Gyros Wrap",
          "Pork Gyros Wrap",
          "Chicken Gyros Wrap",
          "Pork Gyros Wrap",
          "Chicken Skewer Wrap",
          "Chicken Gyros Wrap",
          "Chicken Skewer Wrap",
          "Chicken Skewer Wrap",
          "Chicken Gyros Wrap",
          "Pork Skewers",
          "Chicken Skewer Wrap",
          "Chicken Gyros Wrap",
          "Vegetarian Halloumi Cheese Wrap",
          "Chicken Gyros Wrap",
          "Chicken Skewer Wrap",
          "Chicken Skewer Wrap",
          "Chicken Skewers",
          "Chicken Gyros Wrap",
          "Cheese Filled Bifteki Wrap",
          "Cheese Filled Bifteki Wrap",
          "Chicken Gyros Wrap",
          "Pork Gyros Wrap",
          "Chicken Gyros Wrap",
          "Chicken Skewer Wrap",
          "Pork Skewers",
          "Chicken Gyros Wrap",
          "Mixed Platter (1-2 People)",
          "Cheese Filled Bifteki Wrap",
          "Mixed Gyros Wrap",
          "Vegetarian Halloumi Cheese Wrap",
          "Mixed Platter (1-2 People)",
          "Chicken Gyros Wrap",
          "Vegetarian Mousaka",
          "Chicken Skewers",
          "Chicken Gyros Wrap",
          "Chicken Gyros Wrap",
          "Chicken Gyros Wrap",
          "Vegetarian Courgette Balls Wrap",
          "Cheese Filled Bifteki Wrap",
          "Mixed Gyros Wrap",
          "Chicken Gyros Wrap"
         ],
         "legendgroup": "Star",
         "marker": {
          "color": "blue",
          "opacity": 0.7,
          "symbol": "circle"
         },
         "mode": "markers+text",
         "name": "Star",
         "orientation": "v",
         "showlegend": true,
         "text": [
          "Chicken Skewer Wrap",
          "Chicken Gyros Wrap",
          "Pork Gyros Wrap",
          "Chicken Gyros Wrap",
          "Pork Gyros Wrap",
          "Chicken Gyros Wrap",
          "Chicken Skewer Wrap",
          "Chicken Gyros Wrap",
          "Pork Gyros Wrap",
          "Chicken Gyros Wrap",
          "Pork Gyros Wrap",
          "Mixed Gyros Wrap",
          "Chicken Gyros Wrap",
          "Chicken Skewers",
          "Chicken Gyros Wrap",
          "Chicken Skewer Wrap",
          "Mixed Platter (1-2 People)",
          "Vegetarian Courgette Balls Wrap",
          "Chicken Gyros Wrap",
          "Chicken Skewer Wrap",
          "Chicken Gyros Wrap",
          "Chicken Skewers",
          "Vegetarian Mousaka",
          "Pork Skewers",
          "Chicken Skewer Wrap",
          "Chicken Gyros Wrap",
          "Pork Gyros Wrap",
          "Chicken Skewer Wrap",
          "Chicken Skewer Wrap",
          "Chicken Skewer Wrap",
          "Chicken Skewer Wrap",
          "Chicken Skewer Wrap",
          "Chicken Gyros Wrap",
          "Pork Gyros Wrap",
          "Pork Gyros Wrap",
          "Chicken Gyros Wrap",
          "Pork Gyros Wrap",
          "Chicken Skewer Wrap",
          "Chicken Gyros Wrap",
          "Chicken Skewer Wrap",
          "Chicken Skewer Wrap",
          "Chicken Gyros Wrap",
          "Pork Skewers",
          "Chicken Skewer Wrap",
          "Chicken Gyros Wrap",
          "Vegetarian Halloumi Cheese Wrap",
          "Chicken Gyros Wrap",
          "Chicken Skewer Wrap",
          "Chicken Skewer Wrap",
          "Chicken Skewers",
          "Chicken Gyros Wrap",
          "Cheese Filled Bifteki Wrap",
          "Cheese Filled Bifteki Wrap",
          "Chicken Gyros Wrap",
          "Pork Gyros Wrap",
          "Chicken Gyros Wrap",
          "Chicken Skewer Wrap",
          "Pork Skewers",
          "Chicken Gyros Wrap",
          "Mixed Platter (1-2 People)",
          "Cheese Filled Bifteki Wrap",
          "Mixed Gyros Wrap",
          "Vegetarian Halloumi Cheese Wrap",
          "Mixed Platter (1-2 People)",
          "Chicken Gyros Wrap",
          "Vegetarian Mousaka",
          "Chicken Skewers",
          "Chicken Gyros Wrap",
          "Chicken Gyros Wrap",
          "Chicken Gyros Wrap",
          "Vegetarian Courgette Balls Wrap",
          "Cheese Filled Bifteki Wrap",
          "Mixed Gyros Wrap",
          "Chicken Gyros Wrap"
         ],
         "textposition": "top center",
         "type": "scatter",
         "x": [
          0.7668997668997669,
          0.7654180855088915,
          0.768595041322314,
          0.7654180855088915,
          0.768595041322314,
          0.7654180855088915,
          0.7668997668997669,
          0.7654180855088915,
          0.768595041322314,
          0.7654180855088915,
          0.768595041322314,
          0.7785977859778598,
          0.7654180855088915,
          0.6610169491525424,
          0.7654180855088915,
          0.7668997668997669,
          0.7058823529411765,
          0.7752808988764045,
          0.7654180855088915,
          0.7668997668997669,
          0.7654180855088915,
          0.6610169491525424,
          0.6666666666666666,
          0.6610169491525424,
          0.7668997668997669,
          0.7654180855088915,
          0.768595041322314,
          0.7668997668997669,
          0.7668997668997669,
          0.7668997668997669,
          0.7668997668997669,
          0.7668997668997669,
          0.7654180855088915,
          0.768595041322314,
          0.768595041322314,
          0.7654180855088915,
          0.768595041322314,
          0.7668997668997669,
          0.7654180855088915,
          0.7668997668997669,
          0.7668997668997669,
          0.7654180855088915,
          0.6610169491525424,
          0.7668997668997669,
          0.7654180855088915,
          0.7647058823529411,
          0.7654180855088915,
          0.7668997668997669,
          0.7668997668997669,
          0.6610169491525424,
          0.7654180855088915,
          0.7777777777777778,
          0.7777777777777778,
          0.7654180855088915,
          0.768595041322314,
          0.7654180855088915,
          0.7668997668997669,
          0.6610169491525424,
          0.7654180855088915,
          0.7058823529411765,
          0.7777777777777778,
          0.7785977859778598,
          0.7647058823529411,
          0.7058823529411765,
          0.7654180855088915,
          0.6666666666666666,
          0.6610169491525424,
          0.7654180855088915,
          0.7654180855088915,
          0.7654180855088915,
          0.7752808988764045,
          0.7777777777777778,
          0.7785977859778598,
          0.7654180855088915
         ],
         "xaxis": "x",
         "y": [
          20,
          31,
          14,
          31,
          14,
          31,
          20,
          31,
          14,
          31,
          14,
          3,
          31,
          4,
          31,
          20,
          3,
          2,
          31,
          20,
          31,
          4,
          2,
          3,
          20,
          31,
          14,
          20,
          20,
          20,
          20,
          20,
          31,
          14,
          14,
          31,
          14,
          20,
          31,
          20,
          20,
          31,
          3,
          20,
          31,
          2,
          31,
          20,
          20,
          4,
          31,
          4,
          4,
          31,
          14,
          31,
          20,
          3,
          31,
          3,
          4,
          3,
          2,
          3,
          31,
          2,
          4,
          31,
          31,
          31,
          2,
          4,
          3,
          31
         ],
         "yaxis": "y"
        },
        {
         "hovertemplate": "<b>%{hovertext}</b><br><br>category=Puzzle<br>Profitability=%{x}<br>Popularity=%{y}<br>item_name=%{text}<extra></extra>",
         "hovertext": [
          "Pork Skewers Wrap",
          "Vegetarian Gemista",
          "Bifteki Wrap"
         ],
         "legendgroup": "Puzzle",
         "marker": {
          "color": "green",
          "opacity": 0.7,
          "symbol": "circle"
         },
         "mode": "markers+text",
         "name": "Puzzle",
         "orientation": "v",
         "showlegend": true,
         "text": [
          "Pork Skewers Wrap",
          "Vegetarian Gemista",
          "Bifteki Wrap"
         ],
         "textposition": "top center",
         "type": "scatter",
         "x": [
          0.7647058823529411,
          0.6666666666666666,
          0.7647058823529411
         ],
         "xaxis": "x",
         "y": [
          1,
          1,
          1
         ],
         "yaxis": "y"
        },
        {
         "hovertemplate": "<b>%{hovertext}</b><br><br>category=Cash Cow<br>Profitability=%{x}<br>Popularity=%{y}<br>item_name=%{text}<extra></extra>",
         "hovertext": [
          "Mixed Pork - Chicken Gyros",
          "Chicken Gyros",
          "Pastistio",
          "Pitta Club Gyros",
          "Chicken Gyros",
          "Mammoth Pitta Club Gyros",
          "Chicken Gyros",
          "Pastistio",
          "Pastistio",
          "Pork Gyros",
          "Chicken Gyros",
          "Meat Mousaka",
          "Chicken Gyros",
          "Lamb Skewers",
          "Chicken Gyros",
          "Chicken Gyros",
          "Chicken Gyros",
          "Pork Gyros",
          "Chicken Gyros",
          "Chicken Gyros",
          "Lamb Chops",
          "Meat Mousaka",
          "Chicken Gyros",
          "Chicken Gyros",
          "Lamb Chops",
          "Lamb Chops",
          "Mammoth Pitta Club Gyros",
          "Mixed Pork - Chicken Gyros",
          "Chicken Gyros",
          "Chicken Gyros",
          "Meat Gemista",
          "Meat Gemista",
          "Mixed Pork - Chicken Gyros",
          "Mix of Meat Skewers",
          "Mix of Meat Skewers",
          "Pitta Club Gyros",
          "Lamb Skewers"
         ],
         "legendgroup": "Cash Cow",
         "marker": {
          "color": "orange",
          "opacity": 0.7,
          "symbol": "circle"
         },
         "mode": "markers+text",
         "name": "Cash Cow",
         "orientation": "v",
         "showlegend": true,
         "text": [
          "Mixed Pork - Chicken Gyros",
          "Chicken Gyros",
          "Pastistio",
          "Pitta Club Gyros",
          "Chicken Gyros",
          "Mammoth Pitta Club Gyros",
          "Chicken Gyros",
          "Pastistio",
          "Pastistio",
          "Pork Gyros",
          "Chicken Gyros",
          "Meat Mousaka",
          "Chicken Gyros",
          "Lamb Skewers",
          "Chicken Gyros",
          "Chicken Gyros",
          "Chicken Gyros",
          "Pork Gyros",
          "Chicken Gyros",
          "Chicken Gyros",
          "Lamb Chops",
          "Meat Mousaka",
          "Chicken Gyros",
          "Chicken Gyros",
          "Lamb Chops",
          "Lamb Chops",
          "Mammoth Pitta Club Gyros",
          "Mixed Pork - Chicken Gyros",
          "Chicken Gyros",
          "Chicken Gyros",
          "Meat Gemista",
          "Meat Gemista",
          "Mixed Pork - Chicken Gyros",
          "Mix of Meat Skewers",
          "Mix of Meat Skewers",
          "Pitta Club Gyros",
          "Lamb Skewers"
         ],
         "textposition": "top center",
         "type": "scatter",
         "x": [
          0.6470588235294118,
          0.6470588235294118,
          0.6060606060606061,
          0.4708994708994709,
          0.6470588235294118,
          0.49748743718592964,
          0.6470588235294118,
          0.6060606060606061,
          0.6060606060606061,
          0.6470588235294118,
          0.6470588235294118,
          0.6060606060606061,
          0.6470588235294118,
          0.6111111111111112,
          0.6470588235294118,
          0.6470588235294118,
          0.6470588235294118,
          0.6470588235294118,
          0.6470588235294118,
          0.6470588235294118,
          0.6410256410256411,
          0.6060606060606061,
          0.6470588235294118,
          0.6470588235294118,
          0.6410256410256411,
          0.6410256410256411,
          0.49748743718592964,
          0.6470588235294118,
          0.6470588235294118,
          0.6470588235294118,
          0.6060606060606061,
          0.6060606060606061,
          0.6470588235294118,
          0.6388888888888888,
          0.6388888888888888,
          0.4708994708994709,
          0.6111111111111112
         ],
         "xaxis": "x",
         "y": [
          3,
          15,
          3,
          2,
          15,
          2,
          15,
          3,
          3,
          2,
          15,
          2,
          15,
          2,
          15,
          15,
          15,
          2,
          15,
          15,
          3,
          2,
          15,
          15,
          3,
          3,
          2,
          3,
          15,
          15,
          2,
          2,
          3,
          2,
          2,
          2,
          2
         ],
         "yaxis": "y"
        }
       ],
       "layout": {
        "legend": {
         "title": {
          "text": "category"
         },
         "tracegroupgap": 0
        },
        "showlegend": true,
        "template": {
         "data": {
          "bar": [
           {
            "error_x": {
             "color": "#2a3f5f"
            },
            "error_y": {
             "color": "#2a3f5f"
            },
            "marker": {
             "line": {
              "color": "#E5ECF6",
              "width": 0.5
             },
             "pattern": {
              "fillmode": "overlay",
              "size": 10,
              "solidity": 0.2
             }
            },
            "type": "bar"
           }
          ],
          "barpolar": [
           {
            "marker": {
             "line": {
              "color": "#E5ECF6",
              "width": 0.5
             },
             "pattern": {
              "fillmode": "overlay",
              "size": 10,
              "solidity": 0.2
             }
            },
            "type": "barpolar"
           }
          ],
          "carpet": [
           {
            "aaxis": {
             "endlinecolor": "#2a3f5f",
             "gridcolor": "white",
             "linecolor": "white",
             "minorgridcolor": "white",
             "startlinecolor": "#2a3f5f"
            },
            "baxis": {
             "endlinecolor": "#2a3f5f",
             "gridcolor": "white",
             "linecolor": "white",
             "minorgridcolor": "white",
             "startlinecolor": "#2a3f5f"
            },
            "type": "carpet"
           }
          ],
          "choropleth": [
           {
            "colorbar": {
             "outlinewidth": 0,
             "ticks": ""
            },
            "type": "choropleth"
           }
          ],
          "contour": [
           {
            "colorbar": {
             "outlinewidth": 0,
             "ticks": ""
            },
            "colorscale": [
             [
              0,
              "#0d0887"
             ],
             [
              0.1111111111111111,
              "#46039f"
             ],
             [
              0.2222222222222222,
              "#7201a8"
             ],
             [
              0.3333333333333333,
              "#9c179e"
             ],
             [
              0.4444444444444444,
              "#bd3786"
             ],
             [
              0.5555555555555556,
              "#d8576b"
             ],
             [
              0.6666666666666666,
              "#ed7953"
             ],
             [
              0.7777777777777778,
              "#fb9f3a"
             ],
             [
              0.8888888888888888,
              "#fdca26"
             ],
             [
              1,
              "#f0f921"
             ]
            ],
            "type": "contour"
           }
          ],
          "contourcarpet": [
           {
            "colorbar": {
             "outlinewidth": 0,
             "ticks": ""
            },
            "type": "contourcarpet"
           }
          ],
          "heatmap": [
           {
            "colorbar": {
             "outlinewidth": 0,
             "ticks": ""
            },
            "colorscale": [
             [
              0,
              "#0d0887"
             ],
             [
              0.1111111111111111,
              "#46039f"
             ],
             [
              0.2222222222222222,
              "#7201a8"
             ],
             [
              0.3333333333333333,
              "#9c179e"
             ],
             [
              0.4444444444444444,
              "#bd3786"
             ],
             [
              0.5555555555555556,
              "#d8576b"
             ],
             [
              0.6666666666666666,
              "#ed7953"
             ],
             [
              0.7777777777777778,
              "#fb9f3a"
             ],
             [
              0.8888888888888888,
              "#fdca26"
             ],
             [
              1,
              "#f0f921"
             ]
            ],
            "type": "heatmap"
           }
          ],
          "heatmapgl": [
           {
            "colorbar": {
             "outlinewidth": 0,
             "ticks": ""
            },
            "colorscale": [
             [
              0,
              "#0d0887"
             ],
             [
              0.1111111111111111,
              "#46039f"
             ],
             [
              0.2222222222222222,
              "#7201a8"
             ],
             [
              0.3333333333333333,
              "#9c179e"
             ],
             [
              0.4444444444444444,
              "#bd3786"
             ],
             [
              0.5555555555555556,
              "#d8576b"
             ],
             [
              0.6666666666666666,
              "#ed7953"
             ],
             [
              0.7777777777777778,
              "#fb9f3a"
             ],
             [
              0.8888888888888888,
              "#fdca26"
             ],
             [
              1,
              "#f0f921"
             ]
            ],
            "type": "heatmapgl"
           }
          ],
          "histogram": [
           {
            "marker": {
             "pattern": {
              "fillmode": "overlay",
              "size": 10,
              "solidity": 0.2
             }
            },
            "type": "histogram"
           }
          ],
          "histogram2d": [
           {
            "colorbar": {
             "outlinewidth": 0,
             "ticks": ""
            },
            "colorscale": [
             [
              0,
              "#0d0887"
             ],
             [
              0.1111111111111111,
              "#46039f"
             ],
             [
              0.2222222222222222,
              "#7201a8"
             ],
             [
              0.3333333333333333,
              "#9c179e"
             ],
             [
              0.4444444444444444,
              "#bd3786"
             ],
             [
              0.5555555555555556,
              "#d8576b"
             ],
             [
              0.6666666666666666,
              "#ed7953"
             ],
             [
              0.7777777777777778,
              "#fb9f3a"
             ],
             [
              0.8888888888888888,
              "#fdca26"
             ],
             [
              1,
              "#f0f921"
             ]
            ],
            "type": "histogram2d"
           }
          ],
          "histogram2dcontour": [
           {
            "colorbar": {
             "outlinewidth": 0,
             "ticks": ""
            },
            "colorscale": [
             [
              0,
              "#0d0887"
             ],
             [
              0.1111111111111111,
              "#46039f"
             ],
             [
              0.2222222222222222,
              "#7201a8"
             ],
             [
              0.3333333333333333,
              "#9c179e"
             ],
             [
              0.4444444444444444,
              "#bd3786"
             ],
             [
              0.5555555555555556,
              "#d8576b"
             ],
             [
              0.6666666666666666,
              "#ed7953"
             ],
             [
              0.7777777777777778,
              "#fb9f3a"
             ],
             [
              0.8888888888888888,
              "#fdca26"
             ],
             [
              1,
              "#f0f921"
             ]
            ],
            "type": "histogram2dcontour"
           }
          ],
          "mesh3d": [
           {
            "colorbar": {
             "outlinewidth": 0,
             "ticks": ""
            },
            "type": "mesh3d"
           }
          ],
          "parcoords": [
           {
            "line": {
             "colorbar": {
              "outlinewidth": 0,
              "ticks": ""
             }
            },
            "type": "parcoords"
           }
          ],
          "pie": [
           {
            "automargin": true,
            "type": "pie"
           }
          ],
          "scatter": [
           {
            "fillpattern": {
             "fillmode": "overlay",
             "size": 10,
             "solidity": 0.2
            },
            "type": "scatter"
           }
          ],
          "scatter3d": [
           {
            "line": {
             "colorbar": {
              "outlinewidth": 0,
              "ticks": ""
             }
            },
            "marker": {
             "colorbar": {
              "outlinewidth": 0,
              "ticks": ""
             }
            },
            "type": "scatter3d"
           }
          ],
          "scattercarpet": [
           {
            "marker": {
             "colorbar": {
              "outlinewidth": 0,
              "ticks": ""
             }
            },
            "type": "scattercarpet"
           }
          ],
          "scattergeo": [
           {
            "marker": {
             "colorbar": {
              "outlinewidth": 0,
              "ticks": ""
             }
            },
            "type": "scattergeo"
           }
          ],
          "scattergl": [
           {
            "marker": {
             "colorbar": {
              "outlinewidth": 0,
              "ticks": ""
             }
            },
            "type": "scattergl"
           }
          ],
          "scattermapbox": [
           {
            "marker": {
             "colorbar": {
              "outlinewidth": 0,
              "ticks": ""
             }
            },
            "type": "scattermapbox"
           }
          ],
          "scatterpolar": [
           {
            "marker": {
             "colorbar": {
              "outlinewidth": 0,
              "ticks": ""
             }
            },
            "type": "scatterpolar"
           }
          ],
          "scatterpolargl": [
           {
            "marker": {
             "colorbar": {
              "outlinewidth": 0,
              "ticks": ""
             }
            },
            "type": "scatterpolargl"
           }
          ],
          "scatterternary": [
           {
            "marker": {
             "colorbar": {
              "outlinewidth": 0,
              "ticks": ""
             }
            },
            "type": "scatterternary"
           }
          ],
          "surface": [
           {
            "colorbar": {
             "outlinewidth": 0,
             "ticks": ""
            },
            "colorscale": [
             [
              0,
              "#0d0887"
             ],
             [
              0.1111111111111111,
              "#46039f"
             ],
             [
              0.2222222222222222,
              "#7201a8"
             ],
             [
              0.3333333333333333,
              "#9c179e"
             ],
             [
              0.4444444444444444,
              "#bd3786"
             ],
             [
              0.5555555555555556,
              "#d8576b"
             ],
             [
              0.6666666666666666,
              "#ed7953"
             ],
             [
              0.7777777777777778,
              "#fb9f3a"
             ],
             [
              0.8888888888888888,
              "#fdca26"
             ],
             [
              1,
              "#f0f921"
             ]
            ],
            "type": "surface"
           }
          ],
          "table": [
           {
            "cells": {
             "fill": {
              "color": "#EBF0F8"
             },
             "line": {
              "color": "white"
             }
            },
            "header": {
             "fill": {
              "color": "#C8D4E3"
             },
             "line": {
              "color": "white"
             }
            },
            "type": "table"
           }
          ]
         },
         "layout": {
          "annotationdefaults": {
           "arrowcolor": "#2a3f5f",
           "arrowhead": 0,
           "arrowwidth": 1
          },
          "autotypenumbers": "strict",
          "coloraxis": {
           "colorbar": {
            "outlinewidth": 0,
            "ticks": ""
           }
          },
          "colorscale": {
           "diverging": [
            [
             0,
             "#8e0152"
            ],
            [
             0.1,
             "#c51b7d"
            ],
            [
             0.2,
             "#de77ae"
            ],
            [
             0.3,
             "#f1b6da"
            ],
            [
             0.4,
             "#fde0ef"
            ],
            [
             0.5,
             "#f7f7f7"
            ],
            [
             0.6,
             "#e6f5d0"
            ],
            [
             0.7,
             "#b8e186"
            ],
            [
             0.8,
             "#7fbc41"
            ],
            [
             0.9,
             "#4d9221"
            ],
            [
             1,
             "#276419"
            ]
           ],
           "sequential": [
            [
             0,
             "#0d0887"
            ],
            [
             0.1111111111111111,
             "#46039f"
            ],
            [
             0.2222222222222222,
             "#7201a8"
            ],
            [
             0.3333333333333333,
             "#9c179e"
            ],
            [
             0.4444444444444444,
             "#bd3786"
            ],
            [
             0.5555555555555556,
             "#d8576b"
            ],
            [
             0.6666666666666666,
             "#ed7953"
            ],
            [
             0.7777777777777778,
             "#fb9f3a"
            ],
            [
             0.8888888888888888,
             "#fdca26"
            ],
            [
             1,
             "#f0f921"
            ]
           ],
           "sequentialminus": [
            [
             0,
             "#0d0887"
            ],
            [
             0.1111111111111111,
             "#46039f"
            ],
            [
             0.2222222222222222,
             "#7201a8"
            ],
            [
             0.3333333333333333,
             "#9c179e"
            ],
            [
             0.4444444444444444,
             "#bd3786"
            ],
            [
             0.5555555555555556,
             "#d8576b"
            ],
            [
             0.6666666666666666,
             "#ed7953"
            ],
            [
             0.7777777777777778,
             "#fb9f3a"
            ],
            [
             0.8888888888888888,
             "#fdca26"
            ],
            [
             1,
             "#f0f921"
            ]
           ]
          },
          "colorway": [
           "#636efa",
           "#EF553B",
           "#00cc96",
           "#ab63fa",
           "#FFA15A",
           "#19d3f3",
           "#FF6692",
           "#B6E880",
           "#FF97FF",
           "#FECB52"
          ],
          "font": {
           "color": "#2a3f5f"
          },
          "geo": {
           "bgcolor": "white",
           "lakecolor": "white",
           "landcolor": "#E5ECF6",
           "showlakes": true,
           "showland": true,
           "subunitcolor": "white"
          },
          "hoverlabel": {
           "align": "left"
          },
          "hovermode": "closest",
          "mapbox": {
           "style": "light"
          },
          "paper_bgcolor": "white",
          "plot_bgcolor": "#E5ECF6",
          "polar": {
           "angularaxis": {
            "gridcolor": "white",
            "linecolor": "white",
            "ticks": ""
           },
           "bgcolor": "#E5ECF6",
           "radialaxis": {
            "gridcolor": "white",
            "linecolor": "white",
            "ticks": ""
           }
          },
          "scene": {
           "xaxis": {
            "backgroundcolor": "#E5ECF6",
            "gridcolor": "white",
            "gridwidth": 2,
            "linecolor": "white",
            "showbackground": true,
            "ticks": "",
            "zerolinecolor": "white"
           },
           "yaxis": {
            "backgroundcolor": "#E5ECF6",
            "gridcolor": "white",
            "gridwidth": 2,
            "linecolor": "white",
            "showbackground": true,
            "ticks": "",
            "zerolinecolor": "white"
           },
           "zaxis": {
            "backgroundcolor": "#E5ECF6",
            "gridcolor": "white",
            "gridwidth": 2,
            "linecolor": "white",
            "showbackground": true,
            "ticks": "",
            "zerolinecolor": "white"
           }
          },
          "shapedefaults": {
           "line": {
            "color": "#2a3f5f"
           }
          },
          "ternary": {
           "aaxis": {
            "gridcolor": "white",
            "linecolor": "white",
            "ticks": ""
           },
           "baxis": {
            "gridcolor": "white",
            "linecolor": "white",
            "ticks": ""
           },
           "bgcolor": "#E5ECF6",
           "caxis": {
            "gridcolor": "white",
            "linecolor": "white",
            "ticks": ""
           }
          },
          "title": {
           "x": 0.05
          },
          "xaxis": {
           "automargin": true,
           "gridcolor": "white",
           "linecolor": "white",
           "ticks": "",
           "title": {
            "standoff": 15
           },
           "zerolinecolor": "white",
           "zerolinewidth": 2
          },
          "yaxis": {
           "automargin": true,
           "gridcolor": "white",
           "linecolor": "white",
           "ticks": "",
           "title": {
            "standoff": 15
           },
           "zerolinecolor": "white",
           "zerolinewidth": 2
          }
         }
        },
        "title": {
         "text": "Menu Matrix"
        },
        "xaxis": {
         "anchor": "y",
         "domain": [
          0,
          1
         ],
         "tickfont": {
          "size": 18
         },
         "title": {
          "text": "Profitability"
         }
        },
        "yaxis": {
         "anchor": "x",
         "domain": [
          0,
          1
         ],
         "tickfont": {
          "size": 18
         },
         "title": {
          "text": "Popularity (Log Scale)"
         },
         "type": "log"
        }
       }
      }
     },
     "metadata": {},
     "output_type": "display_data"
    },
    {
     "data": {
      "application/vnd.plotly.v1+json": {
       "config": {
        "plotlyServerURL": "https://plot.ly"
       },
       "data": [
        {
         "hovertemplate": "<b>%{hovertext}</b><br><br>category=Star<br>Profitability=%{x}<br>Popularity=%{y}<br>item_name=%{text}<extra></extra>",
         "hovertext": [
          "Pork Gyros Wrap",
          "Chicken Gyros Wrap",
          "Chicken Gyros Wrap",
          "Chicken Skewers",
          "Chicken Gyros Wrap",
          "Chicken Gyros Wrap",
          "Vegetarian Halloumi Cheese Wrap",
          "Vegetarian Halloumi Cheese Wrap",
          "Pork Gyros Wrap",
          "Chicken Gyros Wrap",
          "Vegetarian Gemista",
          "Pork Gyros Wrap",
          "Chicken Skewers",
          "Vegetarian Halloumi Cheese Wrap",
          "Chicken Gyros Wrap",
          "Chicken Skewers",
          "Chicken Gyros Wrap",
          "Vegetarian Gemista",
          "Vegetarian Gemista",
          "Pork Gyros",
          "Vegetarian Halloumi Cheese Wrap",
          "Pork Gyros",
          "Chicken Gyros Wrap",
          "Pork Gyros Wrap",
          "Pork Gyros Wrap",
          "Chicken Gyros Wrap",
          "Pork Gyros Wrap",
          "Chicken Gyros Wrap",
          "Pork Gyros",
          "Mixed Platter (1-2 People)",
          "Vegetarian Halloumi Cheese Wrap",
          "Chicken Gyros Wrap",
          "Pork Gyros Wrap",
          "Chicken Skewer Wrap",
          "Chicken Skewer Wrap",
          "Chicken Gyros Wrap",
          "Mixed Platter (1-2 People)",
          "Chicken Gyros Wrap",
          "Pork Gyros Wrap",
          "Pork Gyros",
          "Chicken Gyros Wrap",
          "Chicken Skewers",
          "Chicken Gyros Wrap",
          "Vegetarian Gemista",
          "Pork Gyros",
          "Mixed Gyros Wrap",
          "Pork Gyros",
          "Pork Gyros",
          "Pork Gyros Wrap",
          "Chicken Gyros Wrap",
          "Pork Gyros Wrap",
          "Mixed Platter (1-2 People)",
          "Chicken Gyros Wrap",
          "Chicken Skewers",
          "Chicken Gyros Wrap",
          "Mixed Platter (1-2 People)",
          "Chicken Gyros Wrap",
          "Chicken Gyros Wrap",
          "Pork Gyros Wrap",
          "Chicken Gyros Wrap",
          "Chicken Gyros Wrap",
          "Chicken Skewers",
          "Chicken Skewer Wrap",
          "Pork Gyros",
          "Mixed Platter (1-2 People)",
          "Chicken Skewer Wrap",
          "Chicken Gyros Wrap",
          "Pork Gyros Wrap",
          "Pork Gyros",
          "Mixed Gyros Wrap",
          "Mixed Gyros Wrap"
         ],
         "legendgroup": "Star",
         "marker": {
          "color": "blue",
          "opacity": 0.7,
          "symbol": "circle"
         },
         "mode": "markers+text",
         "name": "Star",
         "orientation": "v",
         "showlegend": true,
         "text": [
          "Pork Gyros Wrap",
          "Chicken Gyros Wrap",
          "Chicken Gyros Wrap",
          "Chicken Skewers",
          "Chicken Gyros Wrap",
          "Chicken Gyros Wrap",
          "Vegetarian Halloumi Cheese Wrap",
          "Vegetarian Halloumi Cheese Wrap",
          "Pork Gyros Wrap",
          "Chicken Gyros Wrap",
          "Vegetarian Gemista",
          "Pork Gyros Wrap",
          "Chicken Skewers",
          "Vegetarian Halloumi Cheese Wrap",
          "Chicken Gyros Wrap",
          "Chicken Skewers",
          "Chicken Gyros Wrap",
          "Vegetarian Gemista",
          "Vegetarian Gemista",
          "Pork Gyros",
          "Vegetarian Halloumi Cheese Wrap",
          "Pork Gyros",
          "Chicken Gyros Wrap",
          "Pork Gyros Wrap",
          "Pork Gyros Wrap",
          "Chicken Gyros Wrap",
          "Pork Gyros Wrap",
          "Chicken Gyros Wrap",
          "Pork Gyros",
          "Mixed Platter (1-2 People)",
          "Vegetarian Halloumi Cheese Wrap",
          "Chicken Gyros Wrap",
          "Pork Gyros Wrap",
          "Chicken Skewer Wrap",
          "Chicken Skewer Wrap",
          "Chicken Gyros Wrap",
          "Mixed Platter (1-2 People)",
          "Chicken Gyros Wrap",
          "Pork Gyros Wrap",
          "Pork Gyros",
          "Chicken Gyros Wrap",
          "Chicken Skewers",
          "Chicken Gyros Wrap",
          "Vegetarian Gemista",
          "Pork Gyros",
          "Mixed Gyros Wrap",
          "Pork Gyros",
          "Pork Gyros",
          "Pork Gyros Wrap",
          "Chicken Gyros Wrap",
          "Pork Gyros Wrap",
          "Mixed Platter (1-2 People)",
          "Chicken Gyros Wrap",
          "Chicken Skewers",
          "Chicken Gyros Wrap",
          "Mixed Platter (1-2 People)",
          "Chicken Gyros Wrap",
          "Chicken Gyros Wrap",
          "Pork Gyros Wrap",
          "Chicken Gyros Wrap",
          "Chicken Gyros Wrap",
          "Chicken Skewers",
          "Chicken Skewer Wrap",
          "Pork Gyros",
          "Mixed Platter (1-2 People)",
          "Chicken Skewer Wrap",
          "Chicken Gyros Wrap",
          "Pork Gyros Wrap",
          "Pork Gyros",
          "Mixed Gyros Wrap",
          "Mixed Gyros Wrap"
         ],
         "textposition": "top center",
         "type": "scatter",
         "x": [
          0.7837837837837838,
          0.7861386138613862,
          0.7861386138613862,
          0.6819787985865724,
          0.7861386138613862,
          0.7861386138613862,
          0.788583509513742,
          0.788583509513742,
          0.7837837837837838,
          0.7861386138613862,
          0.6666666666666666,
          0.7837837837837838,
          0.6819787985865724,
          0.788583509513742,
          0.7861386138613862,
          0.6819787985865724,
          0.7861386138613862,
          0.6666666666666666,
          0.6666666666666666,
          0.6666666666666666,
          0.788583509513742,
          0.6666666666666666,
          0.7861386138613862,
          0.7837837837837838,
          0.7837837837837838,
          0.7861386138613862,
          0.7837837837837838,
          0.7861386138613862,
          0.6666666666666666,
          0.7058823529411765,
          0.788583509513742,
          0.7861386138613862,
          0.7837837837837838,
          0.7927461139896373,
          0.7927461139896373,
          0.7861386138613862,
          0.7058823529411765,
          0.7861386138613862,
          0.7837837837837838,
          0.6666666666666666,
          0.7861386138613862,
          0.6819787985865724,
          0.7861386138613862,
          0.6666666666666666,
          0.6666666666666666,
          0.7927461139896373,
          0.6666666666666666,
          0.6666666666666666,
          0.7837837837837838,
          0.7861386138613862,
          0.7837837837837838,
          0.7058823529411765,
          0.7861386138613862,
          0.6819787985865724,
          0.7861386138613862,
          0.7058823529411765,
          0.7861386138613862,
          0.7861386138613862,
          0.7837837837837838,
          0.7861386138613862,
          0.7861386138613862,
          0.6819787985865724,
          0.7927461139896373,
          0.6666666666666666,
          0.7058823529411765,
          0.7927461139896373,
          0.7861386138613862,
          0.7837837837837838,
          0.6666666666666666,
          0.7927461139896373,
          0.7927461139896373
         ],
         "xaxis": "x",
         "y": [
          16,
          27,
          27,
          6,
          27,
          27,
          5,
          5,
          16,
          27,
          4,
          16,
          6,
          5,
          27,
          6,
          27,
          4,
          4,
          9,
          5,
          9,
          27,
          16,
          16,
          27,
          16,
          27,
          9,
          5,
          5,
          27,
          16,
          4,
          4,
          27,
          5,
          27,
          16,
          9,
          27,
          6,
          27,
          4,
          9,
          4,
          9,
          9,
          16,
          27,
          16,
          5,
          27,
          6,
          27,
          5,
          27,
          27,
          16,
          27,
          27,
          6,
          4,
          9,
          5,
          4,
          27,
          16,
          9,
          4,
          4
         ],
         "yaxis": "y"
        },
        {
         "hovertemplate": "<b>%{hovertext}</b><br><br>category=Puzzle<br>Profitability=%{x}<br>Popularity=%{y}<br>item_name=%{text}<extra></extra>",
         "hovertext": [
          "Vegetarian Mousaka",
          "Cheese Filled Bifteki Wrap",
          "Vegetarian Mousaka",
          "Vegetarian Mousaka",
          "Pork Skewers Wrap",
          "Pork Skewers Wrap",
          "Vegetarian Courgette Balls Wrap",
          "Cheese Filled Bifteki Wrap",
          "Lamb Skewers Wrap",
          "Vegetarian Courgette Balls Wrap",
          "Bifteki Wrap"
         ],
         "legendgroup": "Puzzle",
         "marker": {
          "color": "green",
          "opacity": 0.7,
          "symbol": "circle"
         },
         "mode": "markers+text",
         "name": "Puzzle",
         "orientation": "v",
         "showlegend": true,
         "text": [
          "Vegetarian Mousaka",
          "Cheese Filled Bifteki Wrap",
          "Vegetarian Mousaka",
          "Vegetarian Mousaka",
          "Pork Skewers Wrap",
          "Pork Skewers Wrap",
          "Vegetarian Courgette Balls Wrap",
          "Cheese Filled Bifteki Wrap",
          "Lamb Skewers Wrap",
          "Vegetarian Courgette Balls Wrap",
          "Bifteki Wrap"
         ],
         "textposition": "top center",
         "type": "scatter",
         "x": [
          0.6666666666666666,
          0.7894736842105263,
          0.6666666666666666,
          0.6666666666666666,
          0.7952218430034129,
          0.7952218430034129,
          0.797979797979798,
          0.7894736842105263,
          0.7368421052631579,
          0.797979797979798,
          0.7894736842105263
         ],
         "xaxis": "x",
         "y": [
          3,
          2,
          3,
          3,
          3,
          3,
          3,
          2,
          2,
          3,
          1
         ],
         "yaxis": "y"
        },
        {
         "hovertemplate": "<b>%{hovertext}</b><br><br>category=Cash Cow<br>Profitability=%{x}<br>Popularity=%{y}<br>item_name=%{text}<extra></extra>",
         "hovertext": [
          "Meat Gemista",
          "Mixed Pork - Chicken Gyros",
          "Mixed Pork - Chicken Gyros",
          "Meat Gemista",
          "Chicken Gyros",
          "Mammoth Pitta Club Gyros",
          "Meat Gemista",
          "Chicken Gyros",
          "Chicken Gyros",
          "Mixed Pork - Chicken Gyros",
          "Mammoth Pitta Club Gyros",
          "Chicken Gyros",
          "Meat Mousaka",
          "Pitta Club Gyros",
          "Pitta Club Gyros",
          "Chicken Gyros",
          "Chicken Gyros",
          "Chicken Gyros",
          "Pastistio",
          "Lamb Chops",
          "Mixed Pork - Chicken Gyros",
          "Pitta Club Gyros",
          "Pitta Club Gyros",
          "Meat Mousaka",
          "Mammoth Pitta Club Gyros",
          "Chicken Gyros",
          "Pitta Club Gyros",
          "Meat Mousaka",
          "Lamb Chops",
          "Pitta Club Gyros",
          "Meat Mousaka",
          "Chicken Gyros",
          "Meat Gemista",
          "Pastistio",
          "Meat Gemista",
          "Chicken Gyros",
          "Meat Gemista",
          "Lamb Chops",
          "Mammoth Pitta Club Gyros",
          "Pitta Club Gyros",
          "Lamb Chops",
          "Meat Mousaka",
          "Pastistio",
          "Meat Gemista",
          "Chicken Gyros",
          "Chicken Gyros",
          "Pastistio",
          "Chicken Gyros",
          "Chicken Gyros",
          "Mammoth Pitta Club Gyros"
         ],
         "legendgroup": "Cash Cow",
         "marker": {
          "color": "orange",
          "opacity": 0.7,
          "symbol": "circle"
         },
         "mode": "markers+text",
         "name": "Cash Cow",
         "orientation": "v",
         "showlegend": true,
         "text": [
          "Meat Gemista",
          "Mixed Pork - Chicken Gyros",
          "Mixed Pork - Chicken Gyros",
          "Meat Gemista",
          "Chicken Gyros",
          "Mammoth Pitta Club Gyros",
          "Meat Gemista",
          "Chicken Gyros",
          "Chicken Gyros",
          "Mixed Pork - Chicken Gyros",
          "Mammoth Pitta Club Gyros",
          "Chicken Gyros",
          "Meat Mousaka",
          "Pitta Club Gyros",
          "Pitta Club Gyros",
          "Chicken Gyros",
          "Chicken Gyros",
          "Chicken Gyros",
          "Pastistio",
          "Lamb Chops",
          "Mixed Pork - Chicken Gyros",
          "Pitta Club Gyros",
          "Pitta Club Gyros",
          "Meat Mousaka",
          "Mammoth Pitta Club Gyros",
          "Chicken Gyros",
          "Pitta Club Gyros",
          "Meat Mousaka",
          "Lamb Chops",
          "Pitta Club Gyros",
          "Meat Mousaka",
          "Chicken Gyros",
          "Meat Gemista",
          "Pastistio",
          "Meat Gemista",
          "Chicken Gyros",
          "Meat Gemista",
          "Lamb Chops",
          "Mammoth Pitta Club Gyros",
          "Pitta Club Gyros",
          "Lamb Chops",
          "Meat Mousaka",
          "Pastistio",
          "Meat Gemista",
          "Chicken Gyros",
          "Chicken Gyros",
          "Pastistio",
          "Chicken Gyros",
          "Chicken Gyros",
          "Mammoth Pitta Club Gyros"
         ],
         "textposition": "top center",
         "type": "scatter",
         "x": [
          0.6060606060606061,
          0.6571428571428571,
          0.6571428571428571,
          0.6060606060606061,
          0.6610169491525424,
          0.49748743718592964,
          0.6060606060606061,
          0.6610169491525424,
          0.6610169491525424,
          0.6571428571428571,
          0.49748743718592964,
          0.6610169491525424,
          0.6060606060606061,
          0.4708994708994708,
          0.4708994708994708,
          0.6610169491525424,
          0.6610169491525424,
          0.6610169491525424,
          0.6060606060606061,
          0.6606060606060606,
          0.6571428571428571,
          0.4708994708994708,
          0.4708994708994708,
          0.6060606060606061,
          0.49748743718592964,
          0.6610169491525424,
          0.4708994708994708,
          0.6060606060606061,
          0.6606060606060606,
          0.4708994708994708,
          0.6060606060606061,
          0.6610169491525424,
          0.6060606060606061,
          0.6060606060606061,
          0.6060606060606061,
          0.6610169491525424,
          0.6060606060606061,
          0.6606060606060606,
          0.49748743718592964,
          0.4708994708994708,
          0.6606060606060606,
          0.6060606060606061,
          0.6060606060606061,
          0.6060606060606061,
          0.6610169491525424,
          0.6610169491525424,
          0.6060606060606061,
          0.6610169491525424,
          0.6610169491525424,
          0.49748743718592964
         ],
         "xaxis": "x",
         "y": [
          7,
          4,
          4,
          7,
          15,
          5,
          7,
          15,
          15,
          4,
          5,
          15,
          5,
          7,
          7,
          15,
          15,
          15,
          4,
          4,
          4,
          7,
          7,
          5,
          5,
          15,
          7,
          5,
          4,
          7,
          5,
          15,
          7,
          4,
          7,
          15,
          7,
          4,
          5,
          7,
          4,
          5,
          4,
          7,
          15,
          15,
          4,
          15,
          15,
          5
         ],
         "yaxis": "y"
        },
        {
         "hovertemplate": "<b>%{hovertext}</b><br><br>category=Dud<br>Profitability=%{x}<br>Popularity=%{y}<br>item_name=%{text}<extra></extra>",
         "hovertext": [
          "Trikalian Pork Sausages",
          "Herculean Mixed Platter (2-4 People)",
          "Lamb Skewers",
          "Mix of Meat Skewers"
         ],
         "legendgroup": "Dud",
         "marker": {
          "color": "red",
          "opacity": 0.7,
          "symbol": "circle"
         },
         "mode": "markers+text",
         "name": "Dud",
         "orientation": "v",
         "showlegend": true,
         "text": [
          "Trikalian Pork Sausages",
          "Herculean Mixed Platter (2-4 People)",
          "Lamb Skewers",
          "Mix of Meat Skewers"
         ],
         "textposition": "top center",
         "type": "scatter",
         "x": [
          0.6610169491525424,
          0.6638655462184874,
          0.6410256410256411,
          0.6388888888888888
         ],
         "xaxis": "x",
         "y": [
          1,
          1,
          1,
          1
         ],
         "yaxis": "y"
        }
       ],
       "layout": {
        "legend": {
         "title": {
          "text": "category"
         },
         "tracegroupgap": 0
        },
        "showlegend": true,
        "template": {
         "data": {
          "bar": [
           {
            "error_x": {
             "color": "#2a3f5f"
            },
            "error_y": {
             "color": "#2a3f5f"
            },
            "marker": {
             "line": {
              "color": "#E5ECF6",
              "width": 0.5
             },
             "pattern": {
              "fillmode": "overlay",
              "size": 10,
              "solidity": 0.2
             }
            },
            "type": "bar"
           }
          ],
          "barpolar": [
           {
            "marker": {
             "line": {
              "color": "#E5ECF6",
              "width": 0.5
             },
             "pattern": {
              "fillmode": "overlay",
              "size": 10,
              "solidity": 0.2
             }
            },
            "type": "barpolar"
           }
          ],
          "carpet": [
           {
            "aaxis": {
             "endlinecolor": "#2a3f5f",
             "gridcolor": "white",
             "linecolor": "white",
             "minorgridcolor": "white",
             "startlinecolor": "#2a3f5f"
            },
            "baxis": {
             "endlinecolor": "#2a3f5f",
             "gridcolor": "white",
             "linecolor": "white",
             "minorgridcolor": "white",
             "startlinecolor": "#2a3f5f"
            },
            "type": "carpet"
           }
          ],
          "choropleth": [
           {
            "colorbar": {
             "outlinewidth": 0,
             "ticks": ""
            },
            "type": "choropleth"
           }
          ],
          "contour": [
           {
            "colorbar": {
             "outlinewidth": 0,
             "ticks": ""
            },
            "colorscale": [
             [
              0,
              "#0d0887"
             ],
             [
              0.1111111111111111,
              "#46039f"
             ],
             [
              0.2222222222222222,
              "#7201a8"
             ],
             [
              0.3333333333333333,
              "#9c179e"
             ],
             [
              0.4444444444444444,
              "#bd3786"
             ],
             [
              0.5555555555555556,
              "#d8576b"
             ],
             [
              0.6666666666666666,
              "#ed7953"
             ],
             [
              0.7777777777777778,
              "#fb9f3a"
             ],
             [
              0.8888888888888888,
              "#fdca26"
             ],
             [
              1,
              "#f0f921"
             ]
            ],
            "type": "contour"
           }
          ],
          "contourcarpet": [
           {
            "colorbar": {
             "outlinewidth": 0,
             "ticks": ""
            },
            "type": "contourcarpet"
           }
          ],
          "heatmap": [
           {
            "colorbar": {
             "outlinewidth": 0,
             "ticks": ""
            },
            "colorscale": [
             [
              0,
              "#0d0887"
             ],
             [
              0.1111111111111111,
              "#46039f"
             ],
             [
              0.2222222222222222,
              "#7201a8"
             ],
             [
              0.3333333333333333,
              "#9c179e"
             ],
             [
              0.4444444444444444,
              "#bd3786"
             ],
             [
              0.5555555555555556,
              "#d8576b"
             ],
             [
              0.6666666666666666,
              "#ed7953"
             ],
             [
              0.7777777777777778,
              "#fb9f3a"
             ],
             [
              0.8888888888888888,
              "#fdca26"
             ],
             [
              1,
              "#f0f921"
             ]
            ],
            "type": "heatmap"
           }
          ],
          "heatmapgl": [
           {
            "colorbar": {
             "outlinewidth": 0,
             "ticks": ""
            },
            "colorscale": [
             [
              0,
              "#0d0887"
             ],
             [
              0.1111111111111111,
              "#46039f"
             ],
             [
              0.2222222222222222,
              "#7201a8"
             ],
             [
              0.3333333333333333,
              "#9c179e"
             ],
             [
              0.4444444444444444,
              "#bd3786"
             ],
             [
              0.5555555555555556,
              "#d8576b"
             ],
             [
              0.6666666666666666,
              "#ed7953"
             ],
             [
              0.7777777777777778,
              "#fb9f3a"
             ],
             [
              0.8888888888888888,
              "#fdca26"
             ],
             [
              1,
              "#f0f921"
             ]
            ],
            "type": "heatmapgl"
           }
          ],
          "histogram": [
           {
            "marker": {
             "pattern": {
              "fillmode": "overlay",
              "size": 10,
              "solidity": 0.2
             }
            },
            "type": "histogram"
           }
          ],
          "histogram2d": [
           {
            "colorbar": {
             "outlinewidth": 0,
             "ticks": ""
            },
            "colorscale": [
             [
              0,
              "#0d0887"
             ],
             [
              0.1111111111111111,
              "#46039f"
             ],
             [
              0.2222222222222222,
              "#7201a8"
             ],
             [
              0.3333333333333333,
              "#9c179e"
             ],
             [
              0.4444444444444444,
              "#bd3786"
             ],
             [
              0.5555555555555556,
              "#d8576b"
             ],
             [
              0.6666666666666666,
              "#ed7953"
             ],
             [
              0.7777777777777778,
              "#fb9f3a"
             ],
             [
              0.8888888888888888,
              "#fdca26"
             ],
             [
              1,
              "#f0f921"
             ]
            ],
            "type": "histogram2d"
           }
          ],
          "histogram2dcontour": [
           {
            "colorbar": {
             "outlinewidth": 0,
             "ticks": ""
            },
            "colorscale": [
             [
              0,
              "#0d0887"
             ],
             [
              0.1111111111111111,
              "#46039f"
             ],
             [
              0.2222222222222222,
              "#7201a8"
             ],
             [
              0.3333333333333333,
              "#9c179e"
             ],
             [
              0.4444444444444444,
              "#bd3786"
             ],
             [
              0.5555555555555556,
              "#d8576b"
             ],
             [
              0.6666666666666666,
              "#ed7953"
             ],
             [
              0.7777777777777778,
              "#fb9f3a"
             ],
             [
              0.8888888888888888,
              "#fdca26"
             ],
             [
              1,
              "#f0f921"
             ]
            ],
            "type": "histogram2dcontour"
           }
          ],
          "mesh3d": [
           {
            "colorbar": {
             "outlinewidth": 0,
             "ticks": ""
            },
            "type": "mesh3d"
           }
          ],
          "parcoords": [
           {
            "line": {
             "colorbar": {
              "outlinewidth": 0,
              "ticks": ""
             }
            },
            "type": "parcoords"
           }
          ],
          "pie": [
           {
            "automargin": true,
            "type": "pie"
           }
          ],
          "scatter": [
           {
            "fillpattern": {
             "fillmode": "overlay",
             "size": 10,
             "solidity": 0.2
            },
            "type": "scatter"
           }
          ],
          "scatter3d": [
           {
            "line": {
             "colorbar": {
              "outlinewidth": 0,
              "ticks": ""
             }
            },
            "marker": {
             "colorbar": {
              "outlinewidth": 0,
              "ticks": ""
             }
            },
            "type": "scatter3d"
           }
          ],
          "scattercarpet": [
           {
            "marker": {
             "colorbar": {
              "outlinewidth": 0,
              "ticks": ""
             }
            },
            "type": "scattercarpet"
           }
          ],
          "scattergeo": [
           {
            "marker": {
             "colorbar": {
              "outlinewidth": 0,
              "ticks": ""
             }
            },
            "type": "scattergeo"
           }
          ],
          "scattergl": [
           {
            "marker": {
             "colorbar": {
              "outlinewidth": 0,
              "ticks": ""
             }
            },
            "type": "scattergl"
           }
          ],
          "scattermapbox": [
           {
            "marker": {
             "colorbar": {
              "outlinewidth": 0,
              "ticks": ""
             }
            },
            "type": "scattermapbox"
           }
          ],
          "scatterpolar": [
           {
            "marker": {
             "colorbar": {
              "outlinewidth": 0,
              "ticks": ""
             }
            },
            "type": "scatterpolar"
           }
          ],
          "scatterpolargl": [
           {
            "marker": {
             "colorbar": {
              "outlinewidth": 0,
              "ticks": ""
             }
            },
            "type": "scatterpolargl"
           }
          ],
          "scatterternary": [
           {
            "marker": {
             "colorbar": {
              "outlinewidth": 0,
              "ticks": ""
             }
            },
            "type": "scatterternary"
           }
          ],
          "surface": [
           {
            "colorbar": {
             "outlinewidth": 0,
             "ticks": ""
            },
            "colorscale": [
             [
              0,
              "#0d0887"
             ],
             [
              0.1111111111111111,
              "#46039f"
             ],
             [
              0.2222222222222222,
              "#7201a8"
             ],
             [
              0.3333333333333333,
              "#9c179e"
             ],
             [
              0.4444444444444444,
              "#bd3786"
             ],
             [
              0.5555555555555556,
              "#d8576b"
             ],
             [
              0.6666666666666666,
              "#ed7953"
             ],
             [
              0.7777777777777778,
              "#fb9f3a"
             ],
             [
              0.8888888888888888,
              "#fdca26"
             ],
             [
              1,
              "#f0f921"
             ]
            ],
            "type": "surface"
           }
          ],
          "table": [
           {
            "cells": {
             "fill": {
              "color": "#EBF0F8"
             },
             "line": {
              "color": "white"
             }
            },
            "header": {
             "fill": {
              "color": "#C8D4E3"
             },
             "line": {
              "color": "white"
             }
            },
            "type": "table"
           }
          ]
         },
         "layout": {
          "annotationdefaults": {
           "arrowcolor": "#2a3f5f",
           "arrowhead": 0,
           "arrowwidth": 1
          },
          "autotypenumbers": "strict",
          "coloraxis": {
           "colorbar": {
            "outlinewidth": 0,
            "ticks": ""
           }
          },
          "colorscale": {
           "diverging": [
            [
             0,
             "#8e0152"
            ],
            [
             0.1,
             "#c51b7d"
            ],
            [
             0.2,
             "#de77ae"
            ],
            [
             0.3,
             "#f1b6da"
            ],
            [
             0.4,
             "#fde0ef"
            ],
            [
             0.5,
             "#f7f7f7"
            ],
            [
             0.6,
             "#e6f5d0"
            ],
            [
             0.7,
             "#b8e186"
            ],
            [
             0.8,
             "#7fbc41"
            ],
            [
             0.9,
             "#4d9221"
            ],
            [
             1,
             "#276419"
            ]
           ],
           "sequential": [
            [
             0,
             "#0d0887"
            ],
            [
             0.1111111111111111,
             "#46039f"
            ],
            [
             0.2222222222222222,
             "#7201a8"
            ],
            [
             0.3333333333333333,
             "#9c179e"
            ],
            [
             0.4444444444444444,
             "#bd3786"
            ],
            [
             0.5555555555555556,
             "#d8576b"
            ],
            [
             0.6666666666666666,
             "#ed7953"
            ],
            [
             0.7777777777777778,
             "#fb9f3a"
            ],
            [
             0.8888888888888888,
             "#fdca26"
            ],
            [
             1,
             "#f0f921"
            ]
           ],
           "sequentialminus": [
            [
             0,
             "#0d0887"
            ],
            [
             0.1111111111111111,
             "#46039f"
            ],
            [
             0.2222222222222222,
             "#7201a8"
            ],
            [
             0.3333333333333333,
             "#9c179e"
            ],
            [
             0.4444444444444444,
             "#bd3786"
            ],
            [
             0.5555555555555556,
             "#d8576b"
            ],
            [
             0.6666666666666666,
             "#ed7953"
            ],
            [
             0.7777777777777778,
             "#fb9f3a"
            ],
            [
             0.8888888888888888,
             "#fdca26"
            ],
            [
             1,
             "#f0f921"
            ]
           ]
          },
          "colorway": [
           "#636efa",
           "#EF553B",
           "#00cc96",
           "#ab63fa",
           "#FFA15A",
           "#19d3f3",
           "#FF6692",
           "#B6E880",
           "#FF97FF",
           "#FECB52"
          ],
          "font": {
           "color": "#2a3f5f"
          },
          "geo": {
           "bgcolor": "white",
           "lakecolor": "white",
           "landcolor": "#E5ECF6",
           "showlakes": true,
           "showland": true,
           "subunitcolor": "white"
          },
          "hoverlabel": {
           "align": "left"
          },
          "hovermode": "closest",
          "mapbox": {
           "style": "light"
          },
          "paper_bgcolor": "white",
          "plot_bgcolor": "#E5ECF6",
          "polar": {
           "angularaxis": {
            "gridcolor": "white",
            "linecolor": "white",
            "ticks": ""
           },
           "bgcolor": "#E5ECF6",
           "radialaxis": {
            "gridcolor": "white",
            "linecolor": "white",
            "ticks": ""
           }
          },
          "scene": {
           "xaxis": {
            "backgroundcolor": "#E5ECF6",
            "gridcolor": "white",
            "gridwidth": 2,
            "linecolor": "white",
            "showbackground": true,
            "ticks": "",
            "zerolinecolor": "white"
           },
           "yaxis": {
            "backgroundcolor": "#E5ECF6",
            "gridcolor": "white",
            "gridwidth": 2,
            "linecolor": "white",
            "showbackground": true,
            "ticks": "",
            "zerolinecolor": "white"
           },
           "zaxis": {
            "backgroundcolor": "#E5ECF6",
            "gridcolor": "white",
            "gridwidth": 2,
            "linecolor": "white",
            "showbackground": true,
            "ticks": "",
            "zerolinecolor": "white"
           }
          },
          "shapedefaults": {
           "line": {
            "color": "#2a3f5f"
           }
          },
          "ternary": {
           "aaxis": {
            "gridcolor": "white",
            "linecolor": "white",
            "ticks": ""
           },
           "baxis": {
            "gridcolor": "white",
            "linecolor": "white",
            "ticks": ""
           },
           "bgcolor": "#E5ECF6",
           "caxis": {
            "gridcolor": "white",
            "linecolor": "white",
            "ticks": ""
           }
          },
          "title": {
           "x": 0.05
          },
          "xaxis": {
           "automargin": true,
           "gridcolor": "white",
           "linecolor": "white",
           "ticks": "",
           "title": {
            "standoff": 15
           },
           "zerolinecolor": "white",
           "zerolinewidth": 2
          },
          "yaxis": {
           "automargin": true,
           "gridcolor": "white",
           "linecolor": "white",
           "ticks": "",
           "title": {
            "standoff": 15
           },
           "zerolinecolor": "white",
           "zerolinewidth": 2
          }
         }
        },
        "title": {
         "text": "Menu Matrix"
        },
        "xaxis": {
         "anchor": "y",
         "domain": [
          0,
          1
         ],
         "tickfont": {
          "size": 18
         },
         "title": {
          "text": "Profitability"
         }
        },
        "yaxis": {
         "anchor": "x",
         "domain": [
          0,
          1
         ],
         "tickfont": {
          "size": 18
         },
         "title": {
          "text": "Popularity (Log Scale)"
         },
         "type": "log"
        }
       }
      }
     },
     "metadata": {},
     "output_type": "display_data"
    }
   ],
   "source": [
    "from dynamic_pricing.analysis.metrics import plot_menu_matrix\n",
    "\n",
    "plot_menu_matrix(pre_df_menu_matrix)\n",
    "plot_menu_matrix(post_df_menu_matrix)"
   ]
  }
 ],
 "metadata": {
  "kernelspec": {
   "display_name": "venv",
   "language": "python",
   "name": "python3"
  },
  "language_info": {
   "codemirror_mode": {
    "name": "ipython",
    "version": 3
   },
   "file_extension": ".py",
   "mimetype": "text/x-python",
   "name": "python",
   "nbconvert_exporter": "python",
   "pygments_lexer": "ipython3",
   "version": "3.10.12"
  }
 },
 "nbformat": 4,
 "nbformat_minor": 2
}
