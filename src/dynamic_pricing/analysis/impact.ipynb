{
 "cells": [
  {
   "cell_type": "code",
   "execution_count": null,
   "metadata": {},
   "outputs": [],
   "source": [
    "from dynamic_pricing.db.db_utils import get_db_connection\n",
    "import pandas as pd\n",
    "import matplotlib.pyplot as plt\n",
    "import itertools"
   ]
  }
 ],
 "metadata": {
  "language_info": {
   "name": "python"
  }
 },
 "nbformat": 4,
 "nbformat_minor": 2
}
